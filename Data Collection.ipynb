{
 "cells": [
  {
   "cell_type": "code",
   "execution_count": 1,
   "id": "f8785ff2",
   "metadata": {},
   "outputs": [],
   "source": [
    "import numpy as np\n",
    "import pandas as pd\n",
    "import os\n",
    "import sys\n",
    "import requests\n",
    "import json\n",
    "from tabulate import tabulate\n",
    "from datetime import datetime\n",
    "from matplotlib_venn import venn2, venn2_circles, venn2_unweighted\n",
    "from matplotlib_venn import venn3, venn3_circles\n",
    "from tqdm import tqdm\n",
    "from matplotlib import pyplot as plt\n",
    "%matplotlib inline"
   ]
  },
  {
   "cell_type": "code",
   "execution_count": 2,
   "id": "17ce6392",
   "metadata": {},
   "outputs": [],
   "source": [
    "key = \"RF3AMXIFA1Q8TR5D62Y65C1PZBPI46TQKFx\""
   ]
  },
  {
   "cell_type": "code",
   "execution_count": 3,
   "id": "9ffc152c",
   "metadata": {},
   "outputs": [],
   "source": [
    "def callApi(url):\n",
    "    response = requests.get(url = url)\n",
    "    data = response.json()\n",
    "    \n",
    "    if data[\"message\"] == \"OK\":\n",
    "        return data[\"result\"]\n",
    "    \n",
    "#     print(\"Request failed\", data)\n",
    "    return []"
   ]
  },
  {
   "cell_type": "code",
   "execution_count": 4,
   "id": "06c823ae",
   "metadata": {},
   "outputs": [],
   "source": [
    "def getTxns(addr):\n",
    "    url = \"https://api.etherscan.io/api?module=account&action=txlist&address=%s&startblock=0&endblock=99999999&sort=desc&apikey=%s\" \\\n",
    "    % (addr, key)\n",
    "    result = callApi(url)\n",
    "    return result"
   ]
  },
  {
   "cell_type": "code",
   "execution_count": 5,
   "id": "dde0bff2",
   "metadata": {},
   "outputs": [],
   "source": [
    "platforms = {\n",
    "    \"Curve\": [\"0xd533a949740bb3306d119cc777fa900ba034cd52\"],\n",
    "    \"Convex Finance\":  [\"0xf403c135812408bfbe8713b5a23a04b3d48aae31\", \"0x3fe65692bfcd0e6cf84cb1e7d24108e434a7587e\", \"0xcf50b810e57ac33b91dcf525c6ddd9881b139332\", \"0x8014595f2ab54cd7c604b00e9fb932176fdc86ae\", \"0x92cf9e5e4d1dfbf7da0d2bb3e884a68416a65070\", \"0xd18140b4b819b895a3dba5442f959fa44994af50\", \"0x5f465e9fcffc217c5849906216581a657cd60605\", \"0xe98984ad858075813ada4261af47e68a64e28fcc\"], \n",
    "    \"Uniswap\": [\"0x1f9840a85d5af5bf1d1762f925bdaddc4201f984\"],\n",
    "    \"AAVE\": [\"0x7fc66500c84a76ad7e9c93437bfc5ac33e2ddae9\"],\n",
    "    \"Compound\": [\"0xc00e94cb662c3520282e6f5717214004a7f26888\"],\n",
    "    \"Lido\": [\"0xae7ab96520DE3A18E5e111B5EaAb095312D7fE84\"],\n",
    "    \"Instadapp\": [\"0x2971adfa57b20e5a416ae5a708a8655a9c74f723\", \"0x4c8a1BEb8a87765788946D6B19C6C6355194AbEb\", \"0xFE02a32Cbe0CB9ad9A945576A5bb53A3C123A3A3\", \"0x97b0B3A8bDeFE8cB9563a3c610019Ad10DB8aD11\", \"0x8a5419CfC711B2343c17a6ABf4B2bAFaBb06957F\", \"0xCBA828153d3a85b30B5b912e1f2daCac5816aE9D\", \"0x619Ad2D02dBeE6ebA3CDbDA3F98430410e892882\", \"0x33759cF68a3Ab9e8d582d8A4717104848E0fa8B9\", \"0x28849D2b63fA8D361e5fc15cB8aBB13019884d09\"],\n",
    "    \"Yearn Finance\": [\"0x0bc529c00c6401aef6d220be8c6ea1667f6ad93e\"],\n",
    "    \"SushiSwap\": [\"0x6b3595068778dd592e39a122f4f5a5cf09c90fe2\"],\n",
    "    \"Balancer\": [\"0xba100000625a3754423978a60c9317c58a424e3D\"],\n",
    "    \n",
    "    \"OpenSea\": [\"0x7Be8076f4EA4A4AD08075C2508e481d6C946D12b\", \"0x7f268357A8c2552623316e2562D90e642bB538E5\"],\n",
    "    \"SuperRare\": [\"0x6D7c44773C52D396F43c2D511B81aa168E9a7a42\"],\n",
    "    \"Looks Rare\": [\"0xf4d2888d29d722226fafa5d9b24f9164c092421e\"],\n",
    "    \"Rarible\": [\"0xfca59cd816ab1ead66534d82bc21e7515ce441cf\"],\n",
    "    \"NiftyGateway\": [\"0xE052113bd7D7700d623414a0a4585BCaE754E9d5\", \"0x11ab0243c57C6c1b39F2908AAeBaed7ccf351491\"],\n",
    "    \"Foundation\": [\"0xcDA72070E455bb31C7690a170224Ce43623d0B6f\"],\n",
    "\n",
    "    \"Liquity\": [\"0x66017d22b0f8556afdd19fc67041899eb65a21bb\", \"0x6DEA81C8171D0bA574754EF6F8b412F2Ed88c54D\", \"0x4f9Fbb3f1E99B56e0Fe2892e623Ed36A76Fc605d\", \"0x24179CD81c9e782A4096035f7eC97fB8B783e007\", \"0x5f98805A4E8be255a32880FDeC7F6728C6568bA0\"],\n",
    "    \"Rari Capital\": [\"0x835482FE0532f169024d5E9410199369aAD5C77E\", \"0xB465BAF04C087Ce3ed1C266F96CA43f4847D9635\"],\n",
    "    \"dYdX\": [\"0x0fd829C3365A225FB9226e75c97c3A114bD3199e\"],\n",
    "    \"Flexa\": [\"0x4a57E687b9126435a9B19E4A802113e266AdeBde\"],\n",
    "    \"Tornado Cash\": [\"0x77777FeDdddFfC19Ff86DB637967013e6C6A116C\"],\n",
    "    \"RenVM\": [\"0xEB4C2781e4ebA804CE9a9803C67d0893436bB27D\", \"0x32666B64e9fD0F44916E1378Efb2CFa3B3B96e80\", \"0x408e41876cCCDC0F92210600ef50372656052a38\", \"0x2D7b6C95aFeFFa50C068D50f89C5C0014e054f0A\"],\n",
    "    \"DeFi Saver\": [\"0x0528A32fda5beDf89Ba9ad67296db83c9452F28C\"],\n",
    "    \"Quickswap\": [\"0x6c28AeF8977c9B773996d0e8376d2EE379446F2f\"],\n",
    "    \"Nexus Mutual\": [\"0x84EdfFA16bb0b9Ab1163abb0a13Ff0744c11272f\", \"0xd7c49CEE7E9188cCa6AD8FF264C1DA2e69D4Cf3B\"],\n",
    "    \"TrueFi\": [\"0xA991356d261fbaF194463aF6DF8f0464F8f1c742\", \"0x23696914Ca9737466D8553a2d619948f548Ee424\"],\n",
    "    \"Alchemix\": [\"0xdBdb4d16EdA451D0503b854CF79D55697F90c8DF\", \"0xBC6DA0FE9aD5f3b0d58160288917AA56653660E9\", \"0x0100546F2cD4C9D97f798fFC9755E47865FF7Ee6\"],\n",
    "    \"Fei Protocol\": [\"0x956F47F50A910163D8BF957Cf5846D573E7f87CA\"],\n",
    "    \"Notional\": [\"0x9abd0b8868546105F6F48298eaDC1D9c82f7f683\"],\n",
    "    \"C.R.E.A.M. finance\": [\"0x780F75ad0B02afeb6039672E6a6CEDe7447a8b45\", \"0xE618C25f580684770f2578FAca31fb7aCB2F5945\"],\n",
    "    \"Loopring\": [\"0x0BABA1Ad5bE3a5C0a66E7ac838a129Bf948f1eA4\", \"0x4374D3d032B3c96785094ec9f384f07077792768\"],\n",
    "    \"Badger DAO\": [\"0x3472A5A71965499acd81997a54BBA8D852C6E53d\"],\n",
    "    \"Synthetix\": [\"0x823bE81bbF96BEc0e25CA13170F5AaCb5B79ba83\"],\n",
    "    \"Index Coop\": [\"0x72e364F2ABdC788b7E918bc238B21f109Cd634D7\", \"0x0954906da0Bf32d5479e25f46056d22f08464cab\", \"0xAa6E8127831c9DE45ae56bB1b0d4D4Da6e5665BD\", \"0x0B498ff89709d3838a063f1dFA463091F9801c2b\"],\n",
    "    \"Saddle\": [\"0x4f6A43Ad7cba042606dECaCA730d4CE0A57ac62e\"],\n",
    "    \"Harvest Finance\": [\"0xa0246c9032bc3a600820415ae600c6388619a14d\"],\n",
    "    \"B.protocol\": [\"0xbbBBBBB5AA847A2003fbC6b5C16DF0Bd1E725f61\"],\n",
    "    \"xDai\": [\"0x0Ae055097C6d159879521C384F1D2123D1f195e6\"],\n",
    "    \"Olympus\": [\"0x64aa3364F17a4D01c6f1751Fd97C2BD3D7e7f1D5\"],\n",
    "    \"Reflexer\": [\"0x4678f0a6958e4D2Bc4F1BAF7Bc52E8F3564f3fE4\"],\n",
    "    \"DeFiDollar\": [\"0x20c36f062a31865bED8a5B1e512D9a1A20AA333A\"],\n",
    "    \"Element Finance\": [\"0x422494292e7a9Dda8778Bb4EA05C2779a3d60f5D\"],\n",
    "    \"Sablier\": [\"0xCD18eAa163733Da39c232722cBC4E8940b1D8888\", \"0xbd6a40Bb904aEa5a49c59050B5395f7484A4203d\"],\n",
    "    \"Ribbon Finance\": [\"0x8b5876f5B0Bf64056A89Aa7e97511644758c3E8c\", \"0x53773E034d9784153471813dacAFF53dBBB78E8c\", \"0x6123B0049F904d730dB3C36a31167D9d4121fA6B\"],\n",
    "    \"Kyber\": [\"0xdd974D5C2e2928deA5F71b9825b8b646686BD200\", \"0x1c87257F5e8609940Bc751a07BB085Bb7f8cDBE6\"],\n",
    "    \"Vesper\": [\"0x103cc17C2B1586e5Cd9BaD308690bCd0BBe54D5e\", \"0xbA4cFE5741b357FA371b506e5db0774aBFeCf8Fc\", \"0x0C49066C0808Ee8c673553B7cbd99BCC9ABf113d\"],\n",
    "    \"Metronome\": [\"0xa3d58c4e56fedcae3a7c43a725aee9a71f0ece4e\"],\n",
    "    \"DeFi Swap\": [\"0x73854245c99529c4625139041d96fc4e42714c51\"],\n",
    "    \"Idle Finance\": [\"0x3fE7940616e5Bc47b0775a0dccf6237893353bB4\"],\n",
    "    \"DODO\": [\"0x43Dfc4159D86F3A37A5A4B3D4580b888ad7d4DDd\"],\n",
    "    \"Origin Dollar\": [\"0x2A8e1E676Ec238d8A992307B495b45B3fEAa5e86\"],\n",
    "    \"Beta Finance\": [\"0xBe1a001FE942f96Eea22bA08783140B9Dcc09D28\"],\n",
    "    \"Strike\": [\"0x74232704659ef37c08995e386A2E26cc27a8d7B1\"],\n",
    "    \"DeversiFi\": [\"0xDDdddd4301A082e62E84e43F474f044423921918\"],\n",
    "    \"Pickle Finance\": [\"0x429881672B9AE42b8EbA0E26cD9C73711b891Ca5\"],\n",
    "    \"O3 Swap\": [\"0xEe9801669C6138E84bD50dEB500827b776777d28\"],\n",
    "    \"Boring Dao\": [\"0x3c9d6c1C73b31c837832c72E04D3152f051fc1A9\"],\n",
    "    \"UMA\": [\"0x04Fa0d235C4abf4BcF4787aF4CF447DE572eF828\"],\n",
    "    \"Bella Flex Saving\": [\"0xA91ac63D040dEB1b7A5E4d4134aD23eb0ba07e14\"],\n",
    "    \"Gnosis\": [\"0x6810e776880C02933D47DB1b9fc05908e5386b96\"],\n",
    "    \"BiFi\": [\"0x2791BfD60D232150Bff86b39B7146c0eaAA2BA81\"],\n",
    "    \"DFX finance\": [\"0x888888435FDe8e7d4c54cAb67f206e4199454c60\"],\n",
    "    \"WePiggy\": [\"0x27A94869341838D5783368a8503FdA5fbCd7987c\"],\n",
    "    \"IDEX\": [\"0xCc13Fc627EFfd6E35D2D2706Ea3C4D7396c610ea\"],\n",
    "    \"Inverse\": [\"0x41D5D79431A913C4aE7d69a668ecdfE5fF9DFB68\"],\n",
    "    \"InsurAce\": [\"0x544c42fBB96B39B21DF61cf322b5EDC285EE7429\"],\n",
    "    \"Cryptex\": [\"0x321C2fE4446C7c963dc41Dd58879AF648838f98D\"],\n",
    "    \"dForce\": [\"0x431ad2ff6a9C365805eBaD47Ee021148d6f7DBe0\"],\n",
    "    \"BarnBridge\": [\"0x0391D2021f89DC339F60Fff84546EA23E337750f\"],\n",
    "    \"Pendle Finance\": [\"0x808507121B80c02388fAd14726482e061B8da827\"],\n",
    "    \"CREAM Swap\": [\"0x2ba592F78dB6436527729929AAf6c908497cB200\"],\n",
    "    \"Mushrooms Finance\": [\"0xa283aA7CfBB27EF0cfBcb2493dD9F4330E0fd304\"],\n",
    "    \"Erasure\": [\"0x1776e1F26f98b1A5dF9cD347953a26dd3Cb46671\"],\n",
    "    \"Integral\": [\"0xD502F487e1841Fdc805130e13eae80c61186Bc98\"],\n",
    "    \"Hegic\": [\"0xb6A5BAcBB2850Ee4650d08F33F93Df0160fd178C\"],\n",
    "    \"DDEX\": [\"0x20566d84d979841849478E3d17FC81445152B84b\"],\n",
    "    \"bZx\": [\"0x56d811088235F11C8920698a204A5010a788f4b3\"],\n",
    "    \"Gamma\": [\"0x6BeA7CFEF803D1e3d5f7C0103f7ded065644e197\"],\n",
    "    \"Premia\": [\"0x6399C842dD2bE3dE30BF99Bc7D1bBF6Fa3650E70\"],\n",
    "    \"PieDAO\": [\"0xad32A8e6220741182940c5aBF610bDE99E737b2D\"],\n",
    "    \"xToken\": [\"0xdD699Eae49A3504a28AeB9BD76a3f0369fA08471\"],\n",
    "    \"Opium Network\": [\"0x888888888889C00c67689029D7856AAC1065eC11\"],\n",
    "    \"Warp Finance\": [\"0xEd40834A13129509A89be39a9bE9C0E96A0DDd71\"],\n",
    "    \"TRANCHE\": [\"0x0AeE8703D34DD9aE107386d3eFF22AE75Dd616D1\"],\n",
    "    \"Crypto Volatility Index\": [\"0xeEAA40B28A2d1b0B08f6f97bB1DD4B75316c6107\"],\n",
    "    \"OnX Finance\": [\"0xC1330aCBbcE97cb9695B7ee161c0F95B875a8b0F\"],\n",
    "    \"Augur\": [\"0x221657776846890989a759BA2973e427DfF5C9bB\"],\n",
    "    \"DerivaDEX\": [\"0x3A880652F47bFaa771908C07Dd8673A787dAEd3A\"],\n",
    "    \"cvault.finance\": [\"0x62359Ed7505Efc61FF1D56fEF82158CcaffA23D7\"],\n",
    "    \"88mph\": [\"0x8888801aF4d980682e47f1A9036e589479e835C5\"],\n",
    "    \"Convergence\": [\"0xc834Fa996fA3BeC7aAD3693af486ae53D8aA8B50\"],\n",
    "    \"MCDEX\": [\"0x4e352cF164E64ADCBad318C3a1e222E9EBa4Ce42\"]\n",
    "}"
   ]
  },
  {
   "cell_type": "code",
   "execution_count": 21,
   "id": "740b2138",
   "metadata": {},
   "outputs": [],
   "source": [
    "def getPlatformsTxns(platforms, dirPath):\n",
    "    for platform in platforms:\n",
    "        result = []\n",
    "        for addr in platforms[platform]:\n",
    "            result = result + getTxns(addr)\n",
    "\n",
    "        file = os.path.join(dirPath, \"%s.json\" % (platform)) \n",
    "        with open(file, \"w\") as f:\n",
    "            f.write(json.dumps(result))\n",
    "            \n",
    "getPlatformsTxns(temp, \"data/defi/contractsTxns_12_04\")"
   ]
  },
  {
   "cell_type": "code",
   "execution_count": 23,
   "id": "47e688e6",
   "metadata": {},
   "outputs": [
    {
     "name": "stdout",
     "output_type": "stream",
     "text": [
      "253360 28941\n"
     ]
    }
   ],
   "source": [
    "def getTxnsUsers(dirPath, outFilePath):\n",
    "    users = set({})\n",
    "\n",
    "    for path, dirs, files in os.walk(dirPath):\n",
    "        for file in files:\n",
    "            filePath = os.path.join(dirPath, file)\n",
    "            \n",
    "            with open(filePath, \"r\") as f:\n",
    "                data = json.load(f)\n",
    "                currUsers = [x[\"from\"] for x in data]\n",
    "                currUsers = set(currUsers)\n",
    "                users = users.union(currUsers)\n",
    "                \n",
    "    with open(outFilePath, \"w\") as f:\n",
    "        for user in users:\n",
    "            f.write(user)\n",
    "            f.write(\"\\n\")\n",
    "    \n",
    "    return users\n",
    "\n",
    "defiUsers = getTxnsUsers(\"data/defi/contractsTxns_12_04\", \"data/defi/users/defiUsers_12_04.txt\")\n",
    "nftUsers = getTxnsUsers(\"data/nft/contractsTxns_12_04\", \"data/nft/users/nftUsers_12_04.txt\")\n",
    "print(len(defiUsers), len(nftUsers))"
   ]
  },
  {
   "cell_type": "code",
   "execution_count": 24,
   "id": "98fb1cfb",
   "metadata": {},
   "outputs": [],
   "source": [
    "def getAllUsers(dirPath):\n",
    "    allUsers = set({})\n",
    "\n",
    "    for path, dirs, files in os.walk(dirPath):\n",
    "        for file in files:\n",
    "            filePath = os.path.join(path, file)\n",
    "\n",
    "            with open(filePath, \"r\") as f:\n",
    "                users = f.readlines()\n",
    "                users = set([x[:-1] for x in users])\n",
    "                allUsers = allUsers.union(users)\n",
    "\n",
    "    return allUsers"
   ]
  },
  {
   "cell_type": "code",
   "execution_count": 25,
   "id": "b54c4c1a",
   "metadata": {},
   "outputs": [
    {
     "name": "stdout",
     "output_type": "stream",
     "text": [
      "DeFi Users: 278881\n",
      "NFT Users: 57171\n",
      "All Users: 330747\n",
      "Common Users: 5305\n"
     ]
    }
   ],
   "source": [
    "allDefiUsers = getAllUsers(\"data/defi/users\")\n",
    "print(\"DeFi Users:\", len(allDefiUsers))\n",
    "\n",
    "allNftUsers = getAllUsers(\"data/nft/users\")\n",
    "print(\"NFT Users:\", len(allNftUsers))\n",
    "\n",
    "allUsers = allDefiUsers.union(allNftUsers)\n",
    "commonUsers = allDefiUsers.intersection(allNftUsers)\n",
    "print(\"All Users:\", len(allUsers))\n",
    "print(\"Common Users:\", len(commonUsers))"
   ]
  },
  {
   "cell_type": "markdown",
   "id": "166ac578",
   "metadata": {},
   "source": [
    "### Splitting Data for Parallelization"
   ]
  },
  {
   "cell_type": "code",
   "execution_count": 26,
   "id": "ec33dcb0",
   "metadata": {},
   "outputs": [],
   "source": [
    "def splitUsers(allUsers, divs=6):\n",
    "    subsets = np.array_split(list(allUsers), divs)\n",
    "    for i in range(len(subsets)):\n",
    "        subset = subsets[i]\n",
    "        strg = \"\\n\".join(subset)\n",
    "        \n",
    "        filePath = \"data/combinedUsers/%d.txt\" % (i)\n",
    "        with open(filePath, \"w\") as f:\n",
    "            f.write(strg)\n",
    "\n",
    "splitUsers(allUsers)"
   ]
  },
  {
   "cell_type": "code",
   "execution_count": 27,
   "id": "7fd294ad",
   "metadata": {},
   "outputs": [
    {
     "name": "stdout",
     "output_type": "stream",
     "text": [
      "55125\n"
     ]
    }
   ],
   "source": [
    "def getUsersSubset(filePath):\n",
    "    with open(filePath, \"r\") as f:\n",
    "        users = f.readlines()\n",
    "        users = set([x[:-1] for x in users])\n",
    "        return users\n",
    "\n",
    "subUsers = getUsersSubset(\"data/combinedUsers/0.txt\")\n",
    "print(len(subUsers))"
   ]
  },
  {
   "cell_type": "markdown",
   "id": "c0f168e5",
   "metadata": {},
   "source": [
    "### Extract Features from Users' Transactions"
   ]
  },
  {
   "cell_type": "code",
   "execution_count": 9,
   "id": "4ca56a42",
   "metadata": {},
   "outputs": [],
   "source": [
    "def getBal(addr):\n",
    "    url = \"https://api.etherscan.io/api?module=account&action=balance&address=%s&tag=latest&apikey=%s\" % (addr, key)\n",
    "    bal = float(callApi(url)) / 1e18\n",
    "    return bal"
   ]
  },
  {
   "cell_type": "code",
   "execution_count": 10,
   "id": "eeeda38c",
   "metadata": {},
   "outputs": [],
   "source": [
    "def getAvgTxnsPerDay(txns, denom = 0):\n",
    "    timestamps = [int(x[\"timeStamp\"]) for x in txns]\n",
    "    df = pd.DataFrame(timestamps)\n",
    "    df[0] = df[0].apply(lambda x: datetime.fromtimestamp(x))\n",
    "    group = df.groupby([df[0].dt.date]).describe(datetime_is_numeric=True)\n",
    "    if not denom:\n",
    "        denom = len(group[(0, 'count')])\n",
    "\n",
    "    avg_tx_per_day = sum(group[(0, 'count')]) / denom\n",
    "    return avg_tx_per_day, denom"
   ]
  },
  {
   "cell_type": "code",
   "execution_count": 11,
   "id": "681ea29e",
   "metadata": {},
   "outputs": [],
   "source": [
    "def getTokenTransfers(addr):\n",
    "    url = \"https://api.etherscan.io/api?module=account&action=tokentx&address=%s&startblock=0&endblock=99999999&sort=desc&apikey=%s\" % (addr, key)\n",
    "    txns = callApi(url)\n",
    "    \n",
    "    tokens = {}\n",
    "    \n",
    "    for i in txns:\n",
    "        if i[\"tokenName\"] not in tokens:\n",
    "            tokens[i[\"tokenName\"]] = {\"buys\": 0, \"sells\": 0}\n",
    "        \n",
    "        if i['from'] == addr:\n",
    "            tokens[i[\"tokenName\"]][\"sells\"] += 1\n",
    "        else:\n",
    "            tokens[i[\"tokenName\"]][\"buys\"] += 1\n",
    "        \n",
    "    return tokens"
   ]
  },
  {
   "cell_type": "code",
   "execution_count": 12,
   "id": "ef666e40",
   "metadata": {},
   "outputs": [],
   "source": [
    "def getNFTTransfers(addr):\n",
    "    url = \"https://api.etherscan.io/api?module=account&action=tokennfttx&address=%s&startblock=0&endblock=99999999&sort=desc&apikey=%s\" % (addr, key)\n",
    "    txns = callApi(url)\n",
    "    \n",
    "    nfts = {}\n",
    "    \n",
    "    for i in txns:\n",
    "        if i[\"tokenName\"] not in nfts:\n",
    "            nfts[i[\"tokenName\"]] = {\"buys\": 0, \"sells\": 0}\n",
    "            \n",
    "        if i['from'] == addr:\n",
    "            nfts[i[\"tokenName\"]][\"sells\"] += 1\n",
    "        else:\n",
    "            nfts[i[\"tokenName\"]][\"buys\"] += 1\n",
    "            \n",
    "    return nfts"
   ]
  },
  {
   "cell_type": "code",
   "execution_count": 13,
   "id": "9aa67d0f",
   "metadata": {},
   "outputs": [],
   "source": [
    "def clusterTxns(txns, platforms, currAddr):\n",
    "    finalDict = {}\n",
    "    platformsTxns = {}\n",
    "    platAddrMap = {}\n",
    "    for platform in platforms:\n",
    "        platformsTxns[platform] = []\n",
    "        \n",
    "        for addr in platforms[platform]:\n",
    "            platAddrMap[addr] = platform\n",
    "    \n",
    "    for txn in txns:\n",
    "        fromAddr = txn[\"from\"]\n",
    "        toAddr = txn[\"to\"]\n",
    "        \n",
    "        if fromAddr != currAddr:\n",
    "            if fromAddr not in finalDict:\n",
    "                finalDict[fromAddr] = 0\n",
    "            finalDict[fromAddr] += 1\n",
    "            \n",
    "            if fromAddr in platAddrMap.keys():\n",
    "                platform = platAddrMap[fromAddr]\n",
    "                platformsTxns[platform].append(txn)\n",
    "            \n",
    "        elif toAddr != currAddr:\n",
    "            if toAddr not in finalDict:\n",
    "                finalDict[toAddr] = 0\n",
    "            finalDict[toAddr] += 1\n",
    "            \n",
    "            if toAddr in platAddrMap.keys():\n",
    "                platform = platAddrMap[toAddr]\n",
    "                platformsTxns[platform].append(txn)\n",
    "            \n",
    "    return finalDict, platformsTxns"
   ]
  },
  {
   "cell_type": "code",
   "execution_count": 30,
   "id": "56206448",
   "metadata": {},
   "outputs": [],
   "source": [
    "def getPlatformCounts(clusters, platforms, dayCount):\n",
    "    counts = {}\n",
    "    avgs = {}\n",
    "    \n",
    "    for platform in platforms:\n",
    "        ctr = 0\n",
    "        for addr in platforms[platform]:\n",
    "            if addr in list(clusters.keys()):\n",
    "                ctr += clusters[addr]\n",
    "        \n",
    "        if not ctr:\n",
    "            continue\n",
    "        counts[platform] = ctr\n",
    "        avgs[platform] = ctr / dayCount\n",
    "            \n",
    "    return counts, avgs"
   ]
  },
  {
   "cell_type": "code",
   "execution_count": 16,
   "id": "eeba6d9d",
   "metadata": {},
   "outputs": [],
   "source": [
    "def getUserCounts(clusters, defiUsers, nftUsers):\n",
    "    defiCommon = set(defiUsers).intersection(set(clusters.keys()))\n",
    "    nftCommon = set(nftUsers).intersection(set(clusters.keys()))\n",
    "    counts = {\n",
    "        \"DEFI\": {\n",
    "            \"User Count\": len(defiCommon),\n",
    "            \"Transaction Count\": 0\n",
    "        },\n",
    "        \"NFT\": {\n",
    "            \"User Count\": len(nftCommon),\n",
    "            \"Transaction Count\": 0\n",
    "        }\n",
    "    }\n",
    "    \n",
    "    for user in defiCommon:\n",
    "        counts[\"DEFI\"][\"Transaction Count\"] += clusters[user]\n",
    "        \n",
    "    for user in nftCommon:\n",
    "        counts[\"NFT\"][\"Transaction Count\"] += clusters[user]\n",
    "    \n",
    "    return counts"
   ]
  },
  {
   "cell_type": "code",
   "execution_count": 17,
   "id": "c6e9cb00",
   "metadata": {},
   "outputs": [],
   "source": [
    "def isContract(addr):\n",
    "    url = \"https://api.etherscan.io/api?module=contract&action=getabi&address=%s&apikey=%s\" % (addr, key)\n",
    "    result = callApi(url)\n",
    "    if result == []:\n",
    "        return False\n",
    "    \n",
    "    return True"
   ]
  },
  {
   "cell_type": "code",
   "execution_count": 18,
   "id": "a00dd1ef",
   "metadata": {},
   "outputs": [],
   "source": [
    "def parseOtherAddrs(clusters, platforms, allUsers):\n",
    "    counts = {}\n",
    "    platAddrs = []\n",
    "    for platform in platforms:\n",
    "        for addr in platforms[platform]:\n",
    "            platAddrs.append(addr)\n",
    "            \n",
    "    for addr in clusters:\n",
    "        if addr in allUsers or addr in platAddrs:\n",
    "            continue\n",
    "            \n",
    "#         if isContract(addr):\n",
    "        counts[addr] = clusters[addr]\n",
    "            \n",
    "    return counts"
   ]
  },
  {
   "cell_type": "code",
   "execution_count": 31,
   "id": "7d584fa3",
   "metadata": {},
   "outputs": [],
   "source": [
    "def getUserFeats(addr):\n",
    "    bal = getBal(addr)\n",
    "    txns = getTxns(addr)\n",
    "    avgTxnsPerDay, dayCount = getAvgTxnsPerDay(txns)\n",
    "    clusters, platformsTxns = clusterTxns(txns, platforms, addr)\n",
    "    platformCounts, platformAvgs = getPlatformCounts(clusters, platforms, dayCount)\n",
    "    userCounts = getUserCounts(clusters, allDefiUsers, allNftUsers)\n",
    "    otherPlatformsCount = parseOtherAddrs(clusters, platforms, allUsers)\n",
    "    tokenTransfers = getTokenTransfers(addr)\n",
    "    nftTransfers = getNFTTransfers(addr)\n",
    "    \n",
    "    feats = {\n",
    "        \"Ether Balance\": bal,\n",
    "        \"Overall Transaction Count\": len(txns),\n",
    "        \"Average Transactions Per Day\": avgTxnsPerDay,\n",
    "        \"Platform Transaction Count\": platformCounts,\n",
    "        \"Platform Average Transactions Per Day\": platformAvgs,\n",
    "        \"User Counts\": userCounts,\n",
    "        \"Other Platforms Count\": otherPlatformsCount,\n",
    "        \"Token Transfers\": tokenTransfers,\n",
    "        \"NFT Transfers\": nftTransfers   \n",
    "    }\n",
    "    \n",
    "    return feats"
   ]
  },
  {
   "cell_type": "code",
   "execution_count": 32,
   "id": "80f6874c",
   "metadata": {},
   "outputs": [],
   "source": [
    "allFeats = {}"
   ]
  },
  {
   "cell_type": "code",
   "execution_count": 33,
   "id": "930d13a8",
   "metadata": {},
   "outputs": [
    {
     "name": "stderr",
     "output_type": "stream",
     "text": [
      "  0%|                                      | 1/18869 [00:09<49:17:38,  9.41s/it]\n"
     ]
    },
    {
     "ename": "KeyboardInterrupt",
     "evalue": "",
     "output_type": "error",
     "traceback": [
      "\u001b[0;31m---------------------------------------------------------------------------\u001b[0m",
      "\u001b[0;31mKeyboardInterrupt\u001b[0m                         Traceback (most recent call last)",
      "\u001b[0;32m/tmp/ipykernel_31960/1384355746.py\u001b[0m in \u001b[0;36m<module>\u001b[0;34m\u001b[0m\n\u001b[1;32m     17\u001b[0m     \u001b[0;32mreturn\u001b[0m \u001b[0mallFeats\u001b[0m\u001b[0;34m\u001b[0m\u001b[0;34m\u001b[0m\u001b[0m\n\u001b[1;32m     18\u001b[0m \u001b[0;34m\u001b[0m\u001b[0m\n\u001b[0;32m---> 19\u001b[0;31m \u001b[0mgetAllUsersFeats\u001b[0m\u001b[0;34m(\u001b[0m\u001b[0msubUsers\u001b[0m\u001b[0;34m,\u001b[0m \u001b[0;34m\"data/combinedUsers/userFeats1.json\"\u001b[0m\u001b[0;34m)\u001b[0m\u001b[0;34m\u001b[0m\u001b[0;34m\u001b[0m\u001b[0m\n\u001b[0m",
      "\u001b[0;32m/tmp/ipykernel_31960/1384355746.py\u001b[0m in \u001b[0;36mgetAllUsersFeats\u001b[0;34m(users, filePath)\u001b[0m\n\u001b[1;32m     10\u001b[0m                 \u001b[0;32mcontinue\u001b[0m\u001b[0;34m\u001b[0m\u001b[0;34m\u001b[0m\u001b[0m\n\u001b[1;32m     11\u001b[0m \u001b[0;34m\u001b[0m\u001b[0m\n\u001b[0;32m---> 12\u001b[0;31m             \u001b[0mfeats\u001b[0m \u001b[0;34m=\u001b[0m \u001b[0mgetUserFeats\u001b[0m\u001b[0;34m(\u001b[0m\u001b[0muser\u001b[0m\u001b[0;34m)\u001b[0m\u001b[0;34m\u001b[0m\u001b[0;34m\u001b[0m\u001b[0m\n\u001b[0m\u001b[1;32m     13\u001b[0m             \u001b[0mallFeats\u001b[0m\u001b[0;34m[\u001b[0m\u001b[0muser\u001b[0m\u001b[0;34m]\u001b[0m \u001b[0;34m=\u001b[0m \u001b[0mfeats\u001b[0m\u001b[0;34m\u001b[0m\u001b[0;34m\u001b[0m\u001b[0m\n\u001b[1;32m     14\u001b[0m             \u001b[0mf\u001b[0m\u001b[0;34m.\u001b[0m\u001b[0mwrite\u001b[0m\u001b[0;34m(\u001b[0m\u001b[0;34m\"\\\"%s\\\": \"\u001b[0m \u001b[0;34m%\u001b[0m \u001b[0;34m(\u001b[0m\u001b[0muser\u001b[0m\u001b[0;34m)\u001b[0m \u001b[0;34m+\u001b[0m \u001b[0mjson\u001b[0m\u001b[0;34m.\u001b[0m\u001b[0mdumps\u001b[0m\u001b[0;34m(\u001b[0m\u001b[0mfeats\u001b[0m\u001b[0;34m)\u001b[0m \u001b[0;34m+\u001b[0m \u001b[0;34m\", \"\u001b[0m\u001b[0;34m)\u001b[0m\u001b[0;34m\u001b[0m\u001b[0;34m\u001b[0m\u001b[0m\n",
      "\u001b[0;32m/tmp/ipykernel_31960/1182193148.py\u001b[0m in \u001b[0;36mgetUserFeats\u001b[0;34m(addr)\u001b[0m\n\u001b[1;32m      8\u001b[0m     \u001b[0motherPlatformsCount\u001b[0m \u001b[0;34m=\u001b[0m \u001b[0mparseOtherAddrs\u001b[0m\u001b[0;34m(\u001b[0m\u001b[0mclusters\u001b[0m\u001b[0;34m,\u001b[0m \u001b[0mplatforms\u001b[0m\u001b[0;34m,\u001b[0m \u001b[0mallUsers\u001b[0m\u001b[0;34m)\u001b[0m\u001b[0;34m\u001b[0m\u001b[0;34m\u001b[0m\u001b[0m\n\u001b[1;32m      9\u001b[0m     \u001b[0mtokenTransfers\u001b[0m \u001b[0;34m=\u001b[0m \u001b[0mgetTokenTransfers\u001b[0m\u001b[0;34m(\u001b[0m\u001b[0maddr\u001b[0m\u001b[0;34m)\u001b[0m\u001b[0;34m\u001b[0m\u001b[0;34m\u001b[0m\u001b[0m\n\u001b[0;32m---> 10\u001b[0;31m     \u001b[0mnftTransfers\u001b[0m \u001b[0;34m=\u001b[0m \u001b[0mgetNFTTransfers\u001b[0m\u001b[0;34m(\u001b[0m\u001b[0maddr\u001b[0m\u001b[0;34m)\u001b[0m\u001b[0;34m\u001b[0m\u001b[0;34m\u001b[0m\u001b[0m\n\u001b[0m\u001b[1;32m     11\u001b[0m \u001b[0;34m\u001b[0m\u001b[0m\n\u001b[1;32m     12\u001b[0m     feats = {\n",
      "\u001b[0;32m/tmp/ipykernel_31960/3240921052.py\u001b[0m in \u001b[0;36mgetNFTTransfers\u001b[0;34m(addr)\u001b[0m\n\u001b[1;32m      1\u001b[0m \u001b[0;32mdef\u001b[0m \u001b[0mgetNFTTransfers\u001b[0m\u001b[0;34m(\u001b[0m\u001b[0maddr\u001b[0m\u001b[0;34m)\u001b[0m\u001b[0;34m:\u001b[0m\u001b[0;34m\u001b[0m\u001b[0;34m\u001b[0m\u001b[0m\n\u001b[1;32m      2\u001b[0m     \u001b[0murl\u001b[0m \u001b[0;34m=\u001b[0m \u001b[0;34m\"https://api.etherscan.io/api?module=account&action=tokennfttx&address=%s&startblock=0&endblock=99999999&sort=desc&apikey=%s\"\u001b[0m \u001b[0;34m%\u001b[0m \u001b[0;34m(\u001b[0m\u001b[0maddr\u001b[0m\u001b[0;34m,\u001b[0m \u001b[0mkey\u001b[0m\u001b[0;34m)\u001b[0m\u001b[0;34m\u001b[0m\u001b[0;34m\u001b[0m\u001b[0m\n\u001b[0;32m----> 3\u001b[0;31m     \u001b[0mtxns\u001b[0m \u001b[0;34m=\u001b[0m \u001b[0mcallApi\u001b[0m\u001b[0;34m(\u001b[0m\u001b[0murl\u001b[0m\u001b[0;34m)\u001b[0m\u001b[0;34m\u001b[0m\u001b[0;34m\u001b[0m\u001b[0m\n\u001b[0m\u001b[1;32m      4\u001b[0m \u001b[0;34m\u001b[0m\u001b[0m\n\u001b[1;32m      5\u001b[0m     \u001b[0mnfts\u001b[0m \u001b[0;34m=\u001b[0m \u001b[0;34m{\u001b[0m\u001b[0;34m}\u001b[0m\u001b[0;34m\u001b[0m\u001b[0;34m\u001b[0m\u001b[0m\n",
      "\u001b[0;32m/tmp/ipykernel_31960/4082603250.py\u001b[0m in \u001b[0;36mcallApi\u001b[0;34m(url)\u001b[0m\n\u001b[1;32m      1\u001b[0m \u001b[0;32mdef\u001b[0m \u001b[0mcallApi\u001b[0m\u001b[0;34m(\u001b[0m\u001b[0murl\u001b[0m\u001b[0;34m)\u001b[0m\u001b[0;34m:\u001b[0m\u001b[0;34m\u001b[0m\u001b[0;34m\u001b[0m\u001b[0m\n\u001b[0;32m----> 2\u001b[0;31m     \u001b[0mresponse\u001b[0m \u001b[0;34m=\u001b[0m \u001b[0mrequests\u001b[0m\u001b[0;34m.\u001b[0m\u001b[0mget\u001b[0m\u001b[0;34m(\u001b[0m\u001b[0murl\u001b[0m \u001b[0;34m=\u001b[0m \u001b[0murl\u001b[0m\u001b[0;34m)\u001b[0m\u001b[0;34m\u001b[0m\u001b[0;34m\u001b[0m\u001b[0m\n\u001b[0m\u001b[1;32m      3\u001b[0m     \u001b[0mdata\u001b[0m \u001b[0;34m=\u001b[0m \u001b[0mresponse\u001b[0m\u001b[0;34m.\u001b[0m\u001b[0mjson\u001b[0m\u001b[0;34m(\u001b[0m\u001b[0;34m)\u001b[0m\u001b[0;34m\u001b[0m\u001b[0;34m\u001b[0m\u001b[0m\n\u001b[1;32m      4\u001b[0m \u001b[0;34m\u001b[0m\u001b[0m\n\u001b[1;32m      5\u001b[0m     \u001b[0;32mif\u001b[0m \u001b[0mdata\u001b[0m\u001b[0;34m[\u001b[0m\u001b[0;34m\"message\"\u001b[0m\u001b[0;34m]\u001b[0m \u001b[0;34m==\u001b[0m \u001b[0;34m\"OK\"\u001b[0m\u001b[0;34m:\u001b[0m\u001b[0;34m\u001b[0m\u001b[0;34m\u001b[0m\u001b[0m\n",
      "\u001b[0;32m~/anaconda3/lib/python3.9/site-packages/requests/api.py\u001b[0m in \u001b[0;36mget\u001b[0;34m(url, params, **kwargs)\u001b[0m\n\u001b[1;32m     73\u001b[0m     \"\"\"\n\u001b[1;32m     74\u001b[0m \u001b[0;34m\u001b[0m\u001b[0m\n\u001b[0;32m---> 75\u001b[0;31m     \u001b[0;32mreturn\u001b[0m \u001b[0mrequest\u001b[0m\u001b[0;34m(\u001b[0m\u001b[0;34m'get'\u001b[0m\u001b[0;34m,\u001b[0m \u001b[0murl\u001b[0m\u001b[0;34m,\u001b[0m \u001b[0mparams\u001b[0m\u001b[0;34m=\u001b[0m\u001b[0mparams\u001b[0m\u001b[0;34m,\u001b[0m \u001b[0;34m**\u001b[0m\u001b[0mkwargs\u001b[0m\u001b[0;34m)\u001b[0m\u001b[0;34m\u001b[0m\u001b[0;34m\u001b[0m\u001b[0m\n\u001b[0m\u001b[1;32m     76\u001b[0m \u001b[0;34m\u001b[0m\u001b[0m\n\u001b[1;32m     77\u001b[0m \u001b[0;34m\u001b[0m\u001b[0m\n",
      "\u001b[0;32m~/anaconda3/lib/python3.9/site-packages/requests/api.py\u001b[0m in \u001b[0;36mrequest\u001b[0;34m(method, url, **kwargs)\u001b[0m\n\u001b[1;32m     59\u001b[0m     \u001b[0;31m# cases, and look like a memory leak in others.\u001b[0m\u001b[0;34m\u001b[0m\u001b[0;34m\u001b[0m\u001b[0m\n\u001b[1;32m     60\u001b[0m     \u001b[0;32mwith\u001b[0m \u001b[0msessions\u001b[0m\u001b[0;34m.\u001b[0m\u001b[0mSession\u001b[0m\u001b[0;34m(\u001b[0m\u001b[0;34m)\u001b[0m \u001b[0;32mas\u001b[0m \u001b[0msession\u001b[0m\u001b[0;34m:\u001b[0m\u001b[0;34m\u001b[0m\u001b[0;34m\u001b[0m\u001b[0m\n\u001b[0;32m---> 61\u001b[0;31m         \u001b[0;32mreturn\u001b[0m \u001b[0msession\u001b[0m\u001b[0;34m.\u001b[0m\u001b[0mrequest\u001b[0m\u001b[0;34m(\u001b[0m\u001b[0mmethod\u001b[0m\u001b[0;34m=\u001b[0m\u001b[0mmethod\u001b[0m\u001b[0;34m,\u001b[0m \u001b[0murl\u001b[0m\u001b[0;34m=\u001b[0m\u001b[0murl\u001b[0m\u001b[0;34m,\u001b[0m \u001b[0;34m**\u001b[0m\u001b[0mkwargs\u001b[0m\u001b[0;34m)\u001b[0m\u001b[0;34m\u001b[0m\u001b[0;34m\u001b[0m\u001b[0m\n\u001b[0m\u001b[1;32m     62\u001b[0m \u001b[0;34m\u001b[0m\u001b[0m\n\u001b[1;32m     63\u001b[0m \u001b[0;34m\u001b[0m\u001b[0m\n",
      "\u001b[0;32m~/anaconda3/lib/python3.9/site-packages/requests/sessions.py\u001b[0m in \u001b[0;36mrequest\u001b[0;34m(self, method, url, params, data, headers, cookies, files, auth, timeout, allow_redirects, proxies, hooks, stream, verify, cert, json)\u001b[0m\n\u001b[1;32m    527\u001b[0m         }\n\u001b[1;32m    528\u001b[0m         \u001b[0msend_kwargs\u001b[0m\u001b[0;34m.\u001b[0m\u001b[0mupdate\u001b[0m\u001b[0;34m(\u001b[0m\u001b[0msettings\u001b[0m\u001b[0;34m)\u001b[0m\u001b[0;34m\u001b[0m\u001b[0;34m\u001b[0m\u001b[0m\n\u001b[0;32m--> 529\u001b[0;31m         \u001b[0mresp\u001b[0m \u001b[0;34m=\u001b[0m \u001b[0mself\u001b[0m\u001b[0;34m.\u001b[0m\u001b[0msend\u001b[0m\u001b[0;34m(\u001b[0m\u001b[0mprep\u001b[0m\u001b[0;34m,\u001b[0m \u001b[0;34m**\u001b[0m\u001b[0msend_kwargs\u001b[0m\u001b[0;34m)\u001b[0m\u001b[0;34m\u001b[0m\u001b[0;34m\u001b[0m\u001b[0m\n\u001b[0m\u001b[1;32m    530\u001b[0m \u001b[0;34m\u001b[0m\u001b[0m\n\u001b[1;32m    531\u001b[0m         \u001b[0;32mreturn\u001b[0m \u001b[0mresp\u001b[0m\u001b[0;34m\u001b[0m\u001b[0;34m\u001b[0m\u001b[0m\n",
      "\u001b[0;32m~/anaconda3/lib/python3.9/site-packages/requests/sessions.py\u001b[0m in \u001b[0;36msend\u001b[0;34m(self, request, **kwargs)\u001b[0m\n\u001b[1;32m    643\u001b[0m \u001b[0;34m\u001b[0m\u001b[0m\n\u001b[1;32m    644\u001b[0m         \u001b[0;31m# Send the request\u001b[0m\u001b[0;34m\u001b[0m\u001b[0;34m\u001b[0m\u001b[0m\n\u001b[0;32m--> 645\u001b[0;31m         \u001b[0mr\u001b[0m \u001b[0;34m=\u001b[0m \u001b[0madapter\u001b[0m\u001b[0;34m.\u001b[0m\u001b[0msend\u001b[0m\u001b[0;34m(\u001b[0m\u001b[0mrequest\u001b[0m\u001b[0;34m,\u001b[0m \u001b[0;34m**\u001b[0m\u001b[0mkwargs\u001b[0m\u001b[0;34m)\u001b[0m\u001b[0;34m\u001b[0m\u001b[0;34m\u001b[0m\u001b[0m\n\u001b[0m\u001b[1;32m    646\u001b[0m \u001b[0;34m\u001b[0m\u001b[0m\n\u001b[1;32m    647\u001b[0m         \u001b[0;31m# Total elapsed time of the request (approximately)\u001b[0m\u001b[0;34m\u001b[0m\u001b[0;34m\u001b[0m\u001b[0m\n",
      "\u001b[0;32m~/anaconda3/lib/python3.9/site-packages/requests/adapters.py\u001b[0m in \u001b[0;36msend\u001b[0;34m(self, request, stream, timeout, verify, cert, proxies)\u001b[0m\n\u001b[1;32m    438\u001b[0m         \u001b[0;32mtry\u001b[0m\u001b[0;34m:\u001b[0m\u001b[0;34m\u001b[0m\u001b[0;34m\u001b[0m\u001b[0m\n\u001b[1;32m    439\u001b[0m             \u001b[0;32mif\u001b[0m \u001b[0;32mnot\u001b[0m \u001b[0mchunked\u001b[0m\u001b[0;34m:\u001b[0m\u001b[0;34m\u001b[0m\u001b[0;34m\u001b[0m\u001b[0m\n\u001b[0;32m--> 440\u001b[0;31m                 resp = conn.urlopen(\n\u001b[0m\u001b[1;32m    441\u001b[0m                     \u001b[0mmethod\u001b[0m\u001b[0;34m=\u001b[0m\u001b[0mrequest\u001b[0m\u001b[0;34m.\u001b[0m\u001b[0mmethod\u001b[0m\u001b[0;34m,\u001b[0m\u001b[0;34m\u001b[0m\u001b[0;34m\u001b[0m\u001b[0m\n\u001b[1;32m    442\u001b[0m                     \u001b[0murl\u001b[0m\u001b[0;34m=\u001b[0m\u001b[0murl\u001b[0m\u001b[0;34m,\u001b[0m\u001b[0;34m\u001b[0m\u001b[0;34m\u001b[0m\u001b[0m\n",
      "\u001b[0;32m~/anaconda3/lib/python3.9/site-packages/urllib3/connectionpool.py\u001b[0m in \u001b[0;36murlopen\u001b[0;34m(self, method, url, body, headers, retries, redirect, assert_same_host, timeout, pool_timeout, release_conn, chunked, body_pos, **response_kw)\u001b[0m\n\u001b[1;32m    697\u001b[0m \u001b[0;34m\u001b[0m\u001b[0m\n\u001b[1;32m    698\u001b[0m             \u001b[0;31m# Make the request on the httplib connection object.\u001b[0m\u001b[0;34m\u001b[0m\u001b[0;34m\u001b[0m\u001b[0m\n\u001b[0;32m--> 699\u001b[0;31m             httplib_response = self._make_request(\n\u001b[0m\u001b[1;32m    700\u001b[0m                 \u001b[0mconn\u001b[0m\u001b[0;34m,\u001b[0m\u001b[0;34m\u001b[0m\u001b[0;34m\u001b[0m\u001b[0m\n\u001b[1;32m    701\u001b[0m                 \u001b[0mmethod\u001b[0m\u001b[0;34m,\u001b[0m\u001b[0;34m\u001b[0m\u001b[0;34m\u001b[0m\u001b[0m\n",
      "\u001b[0;32m~/anaconda3/lib/python3.9/site-packages/urllib3/connectionpool.py\u001b[0m in \u001b[0;36m_make_request\u001b[0;34m(self, conn, method, url, timeout, chunked, **httplib_request_kw)\u001b[0m\n\u001b[1;32m    443\u001b[0m                     \u001b[0;31m# Python 3 (including for exceptions like SystemExit).\u001b[0m\u001b[0;34m\u001b[0m\u001b[0;34m\u001b[0m\u001b[0m\n\u001b[1;32m    444\u001b[0m                     \u001b[0;31m# Otherwise it looks like a bug in the code.\u001b[0m\u001b[0;34m\u001b[0m\u001b[0;34m\u001b[0m\u001b[0m\n\u001b[0;32m--> 445\u001b[0;31m                     \u001b[0msix\u001b[0m\u001b[0;34m.\u001b[0m\u001b[0mraise_from\u001b[0m\u001b[0;34m(\u001b[0m\u001b[0me\u001b[0m\u001b[0;34m,\u001b[0m \u001b[0;32mNone\u001b[0m\u001b[0;34m)\u001b[0m\u001b[0;34m\u001b[0m\u001b[0;34m\u001b[0m\u001b[0m\n\u001b[0m\u001b[1;32m    446\u001b[0m         \u001b[0;32mexcept\u001b[0m \u001b[0;34m(\u001b[0m\u001b[0mSocketTimeout\u001b[0m\u001b[0;34m,\u001b[0m \u001b[0mBaseSSLError\u001b[0m\u001b[0;34m,\u001b[0m \u001b[0mSocketError\u001b[0m\u001b[0;34m)\u001b[0m \u001b[0;32mas\u001b[0m \u001b[0me\u001b[0m\u001b[0;34m:\u001b[0m\u001b[0;34m\u001b[0m\u001b[0;34m\u001b[0m\u001b[0m\n\u001b[1;32m    447\u001b[0m             \u001b[0mself\u001b[0m\u001b[0;34m.\u001b[0m\u001b[0m_raise_timeout\u001b[0m\u001b[0;34m(\u001b[0m\u001b[0merr\u001b[0m\u001b[0;34m=\u001b[0m\u001b[0me\u001b[0m\u001b[0;34m,\u001b[0m \u001b[0murl\u001b[0m\u001b[0;34m=\u001b[0m\u001b[0murl\u001b[0m\u001b[0;34m,\u001b[0m \u001b[0mtimeout_value\u001b[0m\u001b[0;34m=\u001b[0m\u001b[0mread_timeout\u001b[0m\u001b[0;34m)\u001b[0m\u001b[0;34m\u001b[0m\u001b[0;34m\u001b[0m\u001b[0m\n",
      "\u001b[0;32m~/anaconda3/lib/python3.9/site-packages/urllib3/packages/six.py\u001b[0m in \u001b[0;36mraise_from\u001b[0;34m(value, from_value)\u001b[0m\n",
      "\u001b[0;32m~/anaconda3/lib/python3.9/site-packages/urllib3/connectionpool.py\u001b[0m in \u001b[0;36m_make_request\u001b[0;34m(self, conn, method, url, timeout, chunked, **httplib_request_kw)\u001b[0m\n\u001b[1;32m    438\u001b[0m                 \u001b[0;31m# Python 3\u001b[0m\u001b[0;34m\u001b[0m\u001b[0;34m\u001b[0m\u001b[0m\n\u001b[1;32m    439\u001b[0m                 \u001b[0;32mtry\u001b[0m\u001b[0;34m:\u001b[0m\u001b[0;34m\u001b[0m\u001b[0;34m\u001b[0m\u001b[0m\n\u001b[0;32m--> 440\u001b[0;31m                     \u001b[0mhttplib_response\u001b[0m \u001b[0;34m=\u001b[0m \u001b[0mconn\u001b[0m\u001b[0;34m.\u001b[0m\u001b[0mgetresponse\u001b[0m\u001b[0;34m(\u001b[0m\u001b[0;34m)\u001b[0m\u001b[0;34m\u001b[0m\u001b[0;34m\u001b[0m\u001b[0m\n\u001b[0m\u001b[1;32m    441\u001b[0m                 \u001b[0;32mexcept\u001b[0m \u001b[0mBaseException\u001b[0m \u001b[0;32mas\u001b[0m \u001b[0me\u001b[0m\u001b[0;34m:\u001b[0m\u001b[0;34m\u001b[0m\u001b[0;34m\u001b[0m\u001b[0m\n\u001b[1;32m    442\u001b[0m                     \u001b[0;31m# Remove the TypeError from the exception chain in\u001b[0m\u001b[0;34m\u001b[0m\u001b[0;34m\u001b[0m\u001b[0m\n",
      "\u001b[0;32m~/anaconda3/lib/python3.9/http/client.py\u001b[0m in \u001b[0;36mgetresponse\u001b[0;34m(self)\u001b[0m\n\u001b[1;32m   1369\u001b[0m         \u001b[0;32mtry\u001b[0m\u001b[0;34m:\u001b[0m\u001b[0;34m\u001b[0m\u001b[0;34m\u001b[0m\u001b[0m\n\u001b[1;32m   1370\u001b[0m             \u001b[0;32mtry\u001b[0m\u001b[0;34m:\u001b[0m\u001b[0;34m\u001b[0m\u001b[0;34m\u001b[0m\u001b[0m\n\u001b[0;32m-> 1371\u001b[0;31m                 \u001b[0mresponse\u001b[0m\u001b[0;34m.\u001b[0m\u001b[0mbegin\u001b[0m\u001b[0;34m(\u001b[0m\u001b[0;34m)\u001b[0m\u001b[0;34m\u001b[0m\u001b[0;34m\u001b[0m\u001b[0m\n\u001b[0m\u001b[1;32m   1372\u001b[0m             \u001b[0;32mexcept\u001b[0m \u001b[0mConnectionError\u001b[0m\u001b[0;34m:\u001b[0m\u001b[0;34m\u001b[0m\u001b[0;34m\u001b[0m\u001b[0m\n\u001b[1;32m   1373\u001b[0m                 \u001b[0mself\u001b[0m\u001b[0;34m.\u001b[0m\u001b[0mclose\u001b[0m\u001b[0;34m(\u001b[0m\u001b[0;34m)\u001b[0m\u001b[0;34m\u001b[0m\u001b[0;34m\u001b[0m\u001b[0m\n",
      "\u001b[0;32m~/anaconda3/lib/python3.9/http/client.py\u001b[0m in \u001b[0;36mbegin\u001b[0;34m(self)\u001b[0m\n\u001b[1;32m    317\u001b[0m         \u001b[0;31m# read until we get a non-100 response\u001b[0m\u001b[0;34m\u001b[0m\u001b[0;34m\u001b[0m\u001b[0m\n\u001b[1;32m    318\u001b[0m         \u001b[0;32mwhile\u001b[0m \u001b[0;32mTrue\u001b[0m\u001b[0;34m:\u001b[0m\u001b[0;34m\u001b[0m\u001b[0;34m\u001b[0m\u001b[0m\n\u001b[0;32m--> 319\u001b[0;31m             \u001b[0mversion\u001b[0m\u001b[0;34m,\u001b[0m \u001b[0mstatus\u001b[0m\u001b[0;34m,\u001b[0m \u001b[0mreason\u001b[0m \u001b[0;34m=\u001b[0m \u001b[0mself\u001b[0m\u001b[0;34m.\u001b[0m\u001b[0m_read_status\u001b[0m\u001b[0;34m(\u001b[0m\u001b[0;34m)\u001b[0m\u001b[0;34m\u001b[0m\u001b[0;34m\u001b[0m\u001b[0m\n\u001b[0m\u001b[1;32m    320\u001b[0m             \u001b[0;32mif\u001b[0m \u001b[0mstatus\u001b[0m \u001b[0;34m!=\u001b[0m \u001b[0mCONTINUE\u001b[0m\u001b[0;34m:\u001b[0m\u001b[0;34m\u001b[0m\u001b[0;34m\u001b[0m\u001b[0m\n\u001b[1;32m    321\u001b[0m                 \u001b[0;32mbreak\u001b[0m\u001b[0;34m\u001b[0m\u001b[0;34m\u001b[0m\u001b[0m\n",
      "\u001b[0;32m~/anaconda3/lib/python3.9/http/client.py\u001b[0m in \u001b[0;36m_read_status\u001b[0;34m(self)\u001b[0m\n\u001b[1;32m    278\u001b[0m \u001b[0;34m\u001b[0m\u001b[0m\n\u001b[1;32m    279\u001b[0m     \u001b[0;32mdef\u001b[0m \u001b[0m_read_status\u001b[0m\u001b[0;34m(\u001b[0m\u001b[0mself\u001b[0m\u001b[0;34m)\u001b[0m\u001b[0;34m:\u001b[0m\u001b[0;34m\u001b[0m\u001b[0;34m\u001b[0m\u001b[0m\n\u001b[0;32m--> 280\u001b[0;31m         \u001b[0mline\u001b[0m \u001b[0;34m=\u001b[0m \u001b[0mstr\u001b[0m\u001b[0;34m(\u001b[0m\u001b[0mself\u001b[0m\u001b[0;34m.\u001b[0m\u001b[0mfp\u001b[0m\u001b[0;34m.\u001b[0m\u001b[0mreadline\u001b[0m\u001b[0;34m(\u001b[0m\u001b[0m_MAXLINE\u001b[0m \u001b[0;34m+\u001b[0m \u001b[0;36m1\u001b[0m\u001b[0;34m)\u001b[0m\u001b[0;34m,\u001b[0m \u001b[0;34m\"iso-8859-1\"\u001b[0m\u001b[0;34m)\u001b[0m\u001b[0;34m\u001b[0m\u001b[0;34m\u001b[0m\u001b[0m\n\u001b[0m\u001b[1;32m    281\u001b[0m         \u001b[0;32mif\u001b[0m \u001b[0mlen\u001b[0m\u001b[0;34m(\u001b[0m\u001b[0mline\u001b[0m\u001b[0;34m)\u001b[0m \u001b[0;34m>\u001b[0m \u001b[0m_MAXLINE\u001b[0m\u001b[0;34m:\u001b[0m\u001b[0;34m\u001b[0m\u001b[0;34m\u001b[0m\u001b[0m\n\u001b[1;32m    282\u001b[0m             \u001b[0;32mraise\u001b[0m \u001b[0mLineTooLong\u001b[0m\u001b[0;34m(\u001b[0m\u001b[0;34m\"status line\"\u001b[0m\u001b[0;34m)\u001b[0m\u001b[0;34m\u001b[0m\u001b[0;34m\u001b[0m\u001b[0m\n",
      "\u001b[0;32m~/anaconda3/lib/python3.9/socket.py\u001b[0m in \u001b[0;36mreadinto\u001b[0;34m(self, b)\u001b[0m\n\u001b[1;32m    702\u001b[0m         \u001b[0;32mwhile\u001b[0m \u001b[0;32mTrue\u001b[0m\u001b[0;34m:\u001b[0m\u001b[0;34m\u001b[0m\u001b[0;34m\u001b[0m\u001b[0m\n\u001b[1;32m    703\u001b[0m             \u001b[0;32mtry\u001b[0m\u001b[0;34m:\u001b[0m\u001b[0;34m\u001b[0m\u001b[0;34m\u001b[0m\u001b[0m\n\u001b[0;32m--> 704\u001b[0;31m                 \u001b[0;32mreturn\u001b[0m \u001b[0mself\u001b[0m\u001b[0;34m.\u001b[0m\u001b[0m_sock\u001b[0m\u001b[0;34m.\u001b[0m\u001b[0mrecv_into\u001b[0m\u001b[0;34m(\u001b[0m\u001b[0mb\u001b[0m\u001b[0;34m)\u001b[0m\u001b[0;34m\u001b[0m\u001b[0;34m\u001b[0m\u001b[0m\n\u001b[0m\u001b[1;32m    705\u001b[0m             \u001b[0;32mexcept\u001b[0m \u001b[0mtimeout\u001b[0m\u001b[0;34m:\u001b[0m\u001b[0;34m\u001b[0m\u001b[0;34m\u001b[0m\u001b[0m\n\u001b[1;32m    706\u001b[0m                 \u001b[0mself\u001b[0m\u001b[0;34m.\u001b[0m\u001b[0m_timeout_occurred\u001b[0m \u001b[0;34m=\u001b[0m \u001b[0;32mTrue\u001b[0m\u001b[0;34m\u001b[0m\u001b[0;34m\u001b[0m\u001b[0m\n",
      "\u001b[0;32m~/anaconda3/lib/python3.9/ssl.py\u001b[0m in \u001b[0;36mrecv_into\u001b[0;34m(self, buffer, nbytes, flags)\u001b[0m\n\u001b[1;32m   1239\u001b[0m                   \u001b[0;34m\"non-zero flags not allowed in calls to recv_into() on %s\"\u001b[0m \u001b[0;34m%\u001b[0m\u001b[0;34m\u001b[0m\u001b[0;34m\u001b[0m\u001b[0m\n\u001b[1;32m   1240\u001b[0m                   self.__class__)\n\u001b[0;32m-> 1241\u001b[0;31m             \u001b[0;32mreturn\u001b[0m \u001b[0mself\u001b[0m\u001b[0;34m.\u001b[0m\u001b[0mread\u001b[0m\u001b[0;34m(\u001b[0m\u001b[0mnbytes\u001b[0m\u001b[0;34m,\u001b[0m \u001b[0mbuffer\u001b[0m\u001b[0;34m)\u001b[0m\u001b[0;34m\u001b[0m\u001b[0;34m\u001b[0m\u001b[0m\n\u001b[0m\u001b[1;32m   1242\u001b[0m         \u001b[0;32melse\u001b[0m\u001b[0;34m:\u001b[0m\u001b[0;34m\u001b[0m\u001b[0;34m\u001b[0m\u001b[0m\n\u001b[1;32m   1243\u001b[0m             \u001b[0;32mreturn\u001b[0m \u001b[0msuper\u001b[0m\u001b[0;34m(\u001b[0m\u001b[0;34m)\u001b[0m\u001b[0;34m.\u001b[0m\u001b[0mrecv_into\u001b[0m\u001b[0;34m(\u001b[0m\u001b[0mbuffer\u001b[0m\u001b[0;34m,\u001b[0m \u001b[0mnbytes\u001b[0m\u001b[0;34m,\u001b[0m \u001b[0mflags\u001b[0m\u001b[0;34m)\u001b[0m\u001b[0;34m\u001b[0m\u001b[0;34m\u001b[0m\u001b[0m\n",
      "\u001b[0;32m~/anaconda3/lib/python3.9/ssl.py\u001b[0m in \u001b[0;36mread\u001b[0;34m(self, len, buffer)\u001b[0m\n\u001b[1;32m   1097\u001b[0m         \u001b[0;32mtry\u001b[0m\u001b[0;34m:\u001b[0m\u001b[0;34m\u001b[0m\u001b[0;34m\u001b[0m\u001b[0m\n\u001b[1;32m   1098\u001b[0m             \u001b[0;32mif\u001b[0m \u001b[0mbuffer\u001b[0m \u001b[0;32mis\u001b[0m \u001b[0;32mnot\u001b[0m \u001b[0;32mNone\u001b[0m\u001b[0;34m:\u001b[0m\u001b[0;34m\u001b[0m\u001b[0;34m\u001b[0m\u001b[0m\n\u001b[0;32m-> 1099\u001b[0;31m                 \u001b[0;32mreturn\u001b[0m \u001b[0mself\u001b[0m\u001b[0;34m.\u001b[0m\u001b[0m_sslobj\u001b[0m\u001b[0;34m.\u001b[0m\u001b[0mread\u001b[0m\u001b[0;34m(\u001b[0m\u001b[0mlen\u001b[0m\u001b[0;34m,\u001b[0m \u001b[0mbuffer\u001b[0m\u001b[0;34m)\u001b[0m\u001b[0;34m\u001b[0m\u001b[0;34m\u001b[0m\u001b[0m\n\u001b[0m\u001b[1;32m   1100\u001b[0m             \u001b[0;32melse\u001b[0m\u001b[0;34m:\u001b[0m\u001b[0;34m\u001b[0m\u001b[0;34m\u001b[0m\u001b[0m\n\u001b[1;32m   1101\u001b[0m                 \u001b[0;32mreturn\u001b[0m \u001b[0mself\u001b[0m\u001b[0;34m.\u001b[0m\u001b[0m_sslobj\u001b[0m\u001b[0;34m.\u001b[0m\u001b[0mread\u001b[0m\u001b[0;34m(\u001b[0m\u001b[0mlen\u001b[0m\u001b[0;34m)\u001b[0m\u001b[0;34m\u001b[0m\u001b[0;34m\u001b[0m\u001b[0m\n",
      "\u001b[0;31mKeyboardInterrupt\u001b[0m: "
     ]
    }
   ],
   "source": [
    "def getAllUsersFeats(users, filePath):\n",
    "    global allFeats\n",
    "    \n",
    "    with open(filePath, \"a\") as f:\n",
    "        if allFeats == {}:\n",
    "            f.write(\"{\")\n",
    "        \n",
    "        for user in tqdm(users):\n",
    "            if user in allFeats.keys():\n",
    "                continue\n",
    "                \n",
    "            feats = getUserFeats(user)\n",
    "            allFeats[user] = feats\n",
    "            f.write(\"\\\"%s\\\": \" % (user) + json.dumps(feats) + \", \")\n",
    "\n",
    "    f.write(\"}\")\n",
    "    return allFeats\n",
    "\n",
    "getAllUsersFeats(subUsers, \"data/combinedUsers/userFeats1.json\")"
   ]
  },
  {
   "cell_type": "code",
   "execution_count": 22,
   "id": "e46bab1e",
   "metadata": {},
   "outputs": [
    {
     "name": "stdout",
     "output_type": "stream",
     "text": [
      "Label                 Count\n",
      "------------------  -------\n",
      "DEFI Unique Users     50124\n",
      "NFT Unique Users      28087\n",
      "Common Users            762\n",
      "Total Unique Users    77449\n"
     ]
    }
   ],
   "source": [
    "print(tabulate([\n",
    "    [\"DEFI Unique Users\", len(allUsers)],\n",
    "    [\"NFT Unique Users\", len(nftUsers)],\n",
    "    [\"Common Users\", len(commonUsers)],\n",
    "    [\"Total Unique Users\", len(combinedUsers)]],\n",
    "    headers=[\"Label\", \"Count\"]))"
   ]
  },
  {
   "cell_type": "code",
   "execution_count": 24,
   "id": "9ab51a14",
   "metadata": {},
   "outputs": [
    {
     "data": {
      "text/plain": [
       "<matplotlib_venn._common.VennDiagram at 0x7fa0b424f400>"
      ]
     },
     "execution_count": 24,
     "metadata": {},
     "output_type": "execute_result"
    },
    {
     "data": {
      "image/png": "[encoded data removed]",
      "text/plain": [
       "<Figure size 432x288 with 1 Axes>"
      ]
     },
     "metadata": {},
     "output_type": "display_data"
    }
   ],
   "source": [
    "venn2(subsets = (len(allUsers), len(nftUsers), len(commonUsers)), set_labels = ('DEFI Users', 'NFT Users'))"
   ]
  }
 ],
 "metadata": {
  "kernelspec": {
   "display_name": "Python 3",
   "language": "python",
   "name": "python3"
  },
  "language_info": {
   "codemirror_mode": {
    "name": "ipython",
    "version": 3
   },
   "file_extension": ".py",
   "mimetype": "text/x-python",
   "name": "python",
   "nbconvert_exporter": "python",
   "pygments_lexer": "ipython3",
   "version": "3.9.7"
  }
 },
 "nbformat": 4,
 "nbformat_minor": 5
}
