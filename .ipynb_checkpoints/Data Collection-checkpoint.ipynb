{
 "cells": [
  {
   "cell_type": "code",
   "execution_count": 17,
   "id": "f8785ff2",
   "metadata": {},
   "outputs": [],
   "source": [
    "import numpy as np\n",
    "import pandas as pd\n",
    "import os\n",
    "import sys\n",
    "import requests\n",
    "import json\n",
    "from tabulate import tabulate\n",
    "from datetime import datetime\n",
    "from tqdm import tqdm\n",
    "from matplotlib_venn import venn2, venn2_circles, venn2_unweighted\n",
    "from matplotlib_venn import venn3, venn3_circles\n",
    "from matplotlib import pyplot as plt\n",
    "%matplotlib inline"
   ]
  },
  {
   "cell_type": "code",
   "execution_count": 2,
   "id": "17ce6392",
   "metadata": {},
   "outputs": [],
   "source": [
    "key = \"RF3AMXIFA1Q8TR5D62Y65C1PZBPI46TQKFx\""
   ]
  },
  {
   "cell_type": "code",
   "execution_count": 3,
   "id": "9ffc152c",
   "metadata": {},
   "outputs": [],
   "source": [
    "def callApi(url):\n",
    "    response = requests.get(url = url)\n",
    "    data = response.json()\n",
    "    \n",
    "    if data[\"message\"] == \"OK\":\n",
    "        return data[\"result\"]\n",
    "    \n",
    "#     print(\"Request failed\", data)\n",
    "    return []"
   ]
  },
  {
   "cell_type": "code",
   "execution_count": 4,
   "id": "06c823ae",
   "metadata": {},
   "outputs": [],
   "source": [
    "def getTxns(addr):\n",
    "    url = \"https://api.etherscan.io/api?module=account&action=txlist&address=%s&startblock=0&endblock=99999999&sort=desc&apikey=%s\" \\\n",
    "    % (addr, key)\n",
    "    result = callApi(url)\n",
    "    return result"
   ]
  },
  {
   "cell_type": "code",
   "execution_count": 5,
   "id": "dde0bff2",
   "metadata": {},
   "outputs": [],
   "source": [
    "platforms = {\n",
    "    \"Curve\": [\"0xd533a949740bb3306d119cc777fa900ba034cd52\"],\n",
    "    \"Convex Finance\":  [\"0xf403c135812408bfbe8713b5a23a04b3d48aae31\", \"0x3fe65692bfcd0e6cf84cb1e7d24108e434a7587e\", \"0xcf50b810e57ac33b91dcf525c6ddd9881b139332\", \"0x8014595f2ab54cd7c604b00e9fb932176fdc86ae\", \"0x92cf9e5e4d1dfbf7da0d2bb3e884a68416a65070\", \"0xd18140b4b819b895a3dba5442f959fa44994af50\", \"0x5f465e9fcffc217c5849906216581a657cd60605\", \"0xe98984ad858075813ada4261af47e68a64e28fcc\"], \n",
    "    \"Uniswap\": [\"0x1f9840a85d5af5bf1d1762f925bdaddc4201f984\"],\n",
    "    \"AAVE\": [\"0x7fc66500c84a76ad7e9c93437bfc5ac33e2ddae9\"],\n",
    "    \"Compound\": [\"0xc00e94cb662c3520282e6f5717214004a7f26888\"],\n",
    "    \"Lido\": [\"0xae7ab96520DE3A18E5e111B5EaAb095312D7fE84\"],\n",
    "    \"Instadapp\": [\"0x2971adfa57b20e5a416ae5a708a8655a9c74f723\", \"0x4c8a1BEb8a87765788946D6B19C6C6355194AbEb\", \"0xFE02a32Cbe0CB9ad9A945576A5bb53A3C123A3A3\", \"0x97b0B3A8bDeFE8cB9563a3c610019Ad10DB8aD11\", \"0x8a5419CfC711B2343c17a6ABf4B2bAFaBb06957F\", \"0xCBA828153d3a85b30B5b912e1f2daCac5816aE9D\", \"0x619Ad2D02dBeE6ebA3CDbDA3F98430410e892882\", \"0x33759cF68a3Ab9e8d582d8A4717104848E0fa8B9\", \"0x28849D2b63fA8D361e5fc15cB8aBB13019884d09\"],\n",
    "    \"Yearn Finance\": [\"0x0bc529c00c6401aef6d220be8c6ea1667f6ad93e\"],\n",
    "    \"SushiSwap\": [\"0x6b3595068778dd592e39a122f4f5a5cf09c90fe2\"],\n",
    "    \"Balancer\": [\"0xba100000625a3754423978a60c9317c58a424e3D\"],\n",
    "\n",
    "    \"OpenSea\": [\"0x7Be8076f4EA4A4AD08075C2508e481d6C946D12b\", \"0x7f268357A8c2552623316e2562D90e642bB538E5\"],\n",
    "    \"SuperRare\": [\"0x6D7c44773C52D396F43c2D511B81aa168E9a7a42\"],\n",
    "    \"Looks Rare\": [\"0xf4d2888d29d722226fafa5d9b24f9164c092421e\"],\n",
    "    \"Rarible\": [\"0xfca59cd816ab1ead66534d82bc21e7515ce441cf\"],\n",
    "    \"NiftyGateway\": [\"0xE052113bd7D7700d623414a0a4585BCaE754E9d5\", \"0x11ab0243c57C6c1b39F2908AAeBaed7ccf351491\"],\n",
    "    \"Foundation\": [\"0xcDA72070E455bb31C7690a170224Ce43623d0B6f\"]\n",
    "}"
   ]
  },
  {
   "cell_type": "code",
   "execution_count": 6,
   "id": "740b2138",
   "metadata": {},
   "outputs": [
    {
     "name": "stdout",
     "output_type": "stream",
     "text": [
      "Request failed {'status': '0', 'message': 'No transactions found', 'result': []}\n"
     ]
    }
   ],
   "source": [
    "def getPlatformsTxns(platforms, dirPath):\n",
    "    for platform in platforms:\n",
    "        result = []\n",
    "        for addr in platforms[platform]:\n",
    "            result = result + getTxns(addr)\n",
    "\n",
    "        file = os.path.join(dirPath, \"%s.json\" % (platform)) \n",
    "        with open(file, \"w\") as f:\n",
    "            f.write(json.dumps(result))\n",
    "            \n",
    "getPlatformsTxns(defi, \"data/defi/contractsTxns_04_04\")"
   ]
  },
  {
   "cell_type": "code",
   "execution_count": 24,
   "id": "47e688e6",
   "metadata": {},
   "outputs": [
    {
     "name": "stdout",
     "output_type": "stream",
     "text": [
      "49146\n"
     ]
    }
   ],
   "source": [
    "def getTxnsUsers(dirPath, filePath):\n",
    "    users = set({})\n",
    "\n",
    "    for path, dirs, files in os.walk(dirPath):\n",
    "        for file in files:\n",
    "            filePath = os.path.join(dirPath, file)\n",
    "            \n",
    "            with open(filePath, \"r\") as f:\n",
    "                data = json.load(f)\n",
    "                currUsers = [x[\"from\"] for x in data]\n",
    "                currUsers = set(currUsers)\n",
    "                users = users.union(currUsers)\n",
    "                \n",
    "    with open(filePath, \"w\") as f:\n",
    "        for user in users:\n",
    "            f.write(user)\n",
    "            f.write(\"\\n\")\n",
    "    \n",
    "    return users\n",
    "\n",
    "defiUsers = getTxnsUsers(\"data/defi/contractsTxns_04_04\", \"data/defi/users/defiUsers_04_04.txt\")\n",
    "print(len(defiUsers))"
   ]
  },
  {
   "cell_type": "code",
   "execution_count": 6,
   "id": "d2bc9d05",
   "metadata": {},
   "outputs": [],
   "source": [
    "def getAllUsers(dirPath):\n",
    "    allUsers = set({})\n",
    "\n",
    "    for path, dirs, files in os.walk(dirPath):\n",
    "        for file in files:\n",
    "            filePath = os.path.join(path, file)\n",
    "\n",
    "            with open(filePath, \"r\") as f:\n",
    "                users = f.readlines()\n",
    "                users = set([x[:-1] for x in users])\n",
    "                allUsers = allUsers.union(users)\n",
    "\n",
    "    return allUsers"
   ]
  },
  {
   "cell_type": "code",
   "execution_count": 7,
   "id": "66687cad",
   "metadata": {},
   "outputs": [
    {
     "name": "stdout",
     "output_type": "stream",
     "text": [
      "DeFi Users: 69763\n",
      "NFT Users: 44962\n",
      "All Users: 113210\n",
      "Common Users: 1515\n"
     ]
    }
   ],
   "source": [
    "allDefiUsers = getAllUsers(\"data/defi/users\")\n",
    "print(\"DeFi Users:\", len(allDefiUsers))\n",
    "\n",
    "allNftUsers = getAllUsers(\"data/nft/users\")\n",
    "print(\"NFT Users:\", len(allNftUsers))\n",
    "\n",
    "allUsers = allDefiUsers.union(allNftUsers)\n",
    "commonUsers = allDefiUsers.intersection(allNftUsers)\n",
    "print(\"All Users:\", len(allUsers))\n",
    "print(\"Common Users:\", len(commonUsers))"
   ]
  },
  {
   "cell_type": "markdown",
   "id": "6b8cbfb6",
   "metadata": {},
   "source": [
    "### Extract Features from Users' Transactions"
   ]
  },
  {
   "cell_type": "code",
   "execution_count": 8,
   "id": "cd763769",
   "metadata": {},
   "outputs": [],
   "source": [
    "def getBal(addr):\n",
    "    url = \"https://api.etherscan.io/api?module=account&action=balance&address=%s&tag=latest&apikey=%s\" % (addr, key)\n",
    "    bal = float(callApi(url)) / 1e18\n",
    "    return bal"
   ]
  },
  {
   "cell_type": "code",
   "execution_count": 19,
   "id": "916be917",
   "metadata": {},
   "outputs": [],
   "source": [
    "def getAvgTxnsPerDay(txns):\n",
    "    timestamps = [int(x[\"timeStamp\"]) for x in txns]\n",
    "    \n",
    "    df = pd.DataFrame(timestamps)\n",
    "    df[0] = df[0].apply(lambda x: datetime.fromtimestamp(x))\n",
    "    group = df.groupby([df[0].dt.date]).describe(datetime_is_numeric=True)\n",
    "\n",
    "    avg_tx_per_day = sum(group[(0, 'count')])/len(group[(0, 'count')])\n",
    "    return avg_tx_per_day"
   ]
  },
  {
   "cell_type": "code",
   "execution_count": 21,
   "id": "ab50807f",
   "metadata": {},
   "outputs": [],
   "source": [
    "def clusterTxns(txns, currAddr):\n",
    "    finalDict = {}\n",
    "    \n",
    "    for txn in txns:\n",
    "        fromAddr = txn[\"from\"]\n",
    "        toAddr = txn[\"to\"]\n",
    "        \n",
    "        if fromAddr != currAddr:\n",
    "            if fromAddr not in finalDict:\n",
    "                finalDict[fromAddr] = 0\n",
    "            finalDict[fromAddr] += 1\n",
    "            \n",
    "        elif toAddr != currAddr:\n",
    "            if toAddr not in finalDict:\n",
    "                finalDict[toAddr] = 0\n",
    "            finalDict[toAddr] += 1\n",
    "            \n",
    "    return finalDict"
   ]
  },
  {
   "cell_type": "code",
   "execution_count": 29,
   "id": "eaa423f5",
   "metadata": {},
   "outputs": [],
   "source": [
    "def getPlatformCounts(clusters, platforms):\n",
    "    counts = {}\n",
    "    propOfTxnsPerPlatform = {}\n",
    "    \n",
    "    for platform in platforms:\n",
    "        ctr = 0\n",
    "        for addr in platforms[platform]:\n",
    "            if addr in list(clusters.keys()):\n",
    "                ctr += clusters[addr]\n",
    "        \n",
    "        if ctr == 0:\n",
    "            continue\n",
    "        else:\n",
    "            counts[platform] = ctr\n",
    "        \n",
    "    total_unique_txns = sum(counts.values())\n",
    "    \n",
    "    for key, value in counts.items():\n",
    "        propOfTxnsPerPlatform[key] = (value/total_unique_txns)*100\n",
    "        \n",
    "    return counts, propOfTxnsPerPlatform"
   ]
  },
  {
   "cell_type": "code",
   "execution_count": 12,
   "id": "c23543fc",
   "metadata": {},
   "outputs": [],
   "source": [
    "def getUserCounts(clusters, defiUsers, nftUsers):\n",
    "    defiCommon = set(defiUsers).intersection(set(clusters.keys()))\n",
    "    nftCommon = set(nftUsers).intersection(set(clusters.keys()))\n",
    "    counts = {\n",
    "        \"DEFI\": {\n",
    "            \"User Count\": len(defiCommon),\n",
    "            \"Transaction Count\": 0\n",
    "        },\n",
    "        \"NFT\": {\n",
    "            \"User Count\": len(nftCommon),\n",
    "            \"Transaction Count\": 0\n",
    "        }\n",
    "    }\n",
    "    \n",
    "    for user in defiCommon:\n",
    "        counts[\"DEFI\"][\"Transaction Count\"] += clusters[user]\n",
    "        \n",
    "    for user in nftCommon:\n",
    "        counts[\"NFT\"][\"Transaction Count\"] += clusters[user]\n",
    "    \n",
    "    return counts"
   ]
  },
  {
   "cell_type": "code",
   "execution_count": 13,
   "id": "4c066a4b",
   "metadata": {},
   "outputs": [],
   "source": [
    "def isContract(addr):\n",
    "    url = \"https://api.etherscan.io/api?module=contract&action=getabi&address=%s&apikey=%s\" % (addr, key)\n",
    "    result = callApi(url)\n",
    "    if result == []:\n",
    "        return False\n",
    "    \n",
    "    return True"
   ]
  },
  {
   "cell_type": "code",
   "execution_count": 14,
   "id": "6faa03bf",
   "metadata": {},
   "outputs": [],
   "source": [
    "def parseOtherAddrs(clusters, platforms, allUsers):\n",
    "    counts = {}\n",
    "    platAddrs = []\n",
    "    for platform in platforms:\n",
    "        for addr in platforms[platform]:\n",
    "            platAddrs.append(addr)\n",
    "            \n",
    "    for addr in clusters:\n",
    "        if addr in allUsers or addr in platAddrs:\n",
    "            continue\n",
    "            \n",
    "#         if isContract(addr):\n",
    "        counts[addr] = clusters[addr]\n",
    "            \n",
    "    return counts"
   ]
  },
  {
   "cell_type": "code",
   "execution_count": 25,
   "id": "59928bfd",
   "metadata": {},
   "outputs": [],
   "source": [
    "def getUserFeats(addr):\n",
    "    bal = getBal(addr)\n",
    "    txns = getTxns(addr)\n",
    "    avgTxnsPerDay = getAvgTxnsPerDay(txns)\n",
    "    clusters = clusterTxns(txns, addr)\n",
    "    platformCounts, propOfTxnsPerPlatform = getPlatformCounts(clusters, platforms)\n",
    "    userCounts = getUserCounts(clusters, allDefiUsers, allNftUsers)\n",
    "    otherPlatformsCount = parseOtherAddrs(clusters, platforms, allUsers)\n",
    "    \n",
    "    feats = {\n",
    "        \"Ether Balance\": bal,\n",
    "        \"Overall Transaction Count\": len(txns),\n",
    "        \"Average Transactions Per Day\": avgTxnsPerDay,\n",
    "        \"Platform Transaction Count\": platformCounts,\n",
    "        \"Proportion of Transactions Per Platform\": propOfTxnsPerPlatform,\n",
    "        \"User Counts\": userCounts,\n",
    "        \"Other Platforms Count\": otherPlatformsCount\n",
    "    }\n",
    "    \n",
    "    return feats"
   ]
  },
  {
   "cell_type": "code",
   "execution_count": 30,
   "id": "7e385805",
   "metadata": {},
   "outputs": [
    {
     "name": "stderr",
     "output_type": "stream",
     "text": [
      "  0%|          | 1/69763 [00:04<79:36:36,  4.11s/it]"
     ]
    },
    {
     "name": "stdout",
     "output_type": "stream",
     "text": [
      "0xbb4300e1c68e4345ea152b5231323f587155a4cb {'Ether Balance': 0.002276743620697026, 'Overall Transaction Count': 2, 'Average Transactions Per Day': 2.0, 'Platform Transaction Count': {'Compound': 1}, 'Proportion of Transactions Per Platform': {'Compound': 100.0}, 'User Counts': {'DEFI': {'User Count': 0, 'Transaction Count': 0}, 'NFT': {'User Count': 0, 'Transaction Count': 0}}, 'Other Platforms Count': {'0x061f7937b7b2bc7596539959804f86538b6368dc': 1}}\n"
     ]
    },
    {
     "name": "stderr",
     "output_type": "stream",
     "text": [
      "\r",
      "  0%|          | 2/69763 [00:08<82:02:33,  4.23s/it]"
     ]
    },
    {
     "name": "stdout",
     "output_type": "stream",
     "text": [
      "0x3fbf165bac0da988e48072f04fef3de9c3d2244b {'Ether Balance': 0.11330019247706102, 'Overall Transaction Count': 5, 'Average Transactions Per Day': 5.0, 'Platform Transaction Count': {'Convex Finance': 1}, 'Proportion of Transactions Per Platform': {'Convex Finance': 100.0}, 'User Counts': {'DEFI': {'User Count': 1, 'Transaction Count': 1}, 'NFT': {'User Count': 0, 'Transaction Count': 0}}, 'Other Platforms Count': {'0x55a8a39bc9694714e2874c1ce77aa1e599461e18': 2, '0xa47c8bf37f92abed4a126bda807a7b7498661acd': 1}}\n"
     ]
    },
    {
     "name": "stderr",
     "output_type": "stream",
     "text": [
      "  0%|          | 2/69763 [00:13<127:23:11,  6.57s/it]\n"
     ]
    },
    {
     "ename": "KeyboardInterrupt",
     "evalue": "",
     "output_type": "error",
     "traceback": [
      "\u001b[0;31m---------------------------------------------------------------------------\u001b[0m",
      "\u001b[0;31mKeyboardInterrupt\u001b[0m                         Traceback (most recent call last)",
      "\u001b[0;32m<ipython-input-30-1d5d44473ec0>\u001b[0m in \u001b[0;36m<module>\u001b[0;34m\u001b[0m\n\u001b[1;32m     11\u001b[0m     \u001b[0;32mreturn\u001b[0m \u001b[0mallFeats\u001b[0m\u001b[0;34m\u001b[0m\u001b[0;34m\u001b[0m\u001b[0m\n\u001b[1;32m     12\u001b[0m \u001b[0;34m\u001b[0m\u001b[0m\n\u001b[0;32m---> 13\u001b[0;31m \u001b[0mgetAllUsersFeats\u001b[0m\u001b[0;34m(\u001b[0m\u001b[0mallDefiUsers\u001b[0m\u001b[0;34m,\u001b[0m \u001b[0;34m\"data/defi/userFeats.json\"\u001b[0m\u001b[0;34m)\u001b[0m\u001b[0;34m\u001b[0m\u001b[0;34m\u001b[0m\u001b[0m\n\u001b[0m",
      "\u001b[0;32m<ipython-input-30-1d5d44473ec0>\u001b[0m in \u001b[0;36mgetAllUsersFeats\u001b[0;34m(users, filePath)\u001b[0m\n\u001b[1;32m      2\u001b[0m     \u001b[0mallFeats\u001b[0m \u001b[0;34m=\u001b[0m \u001b[0;34m{\u001b[0m\u001b[0;34m}\u001b[0m\u001b[0;34m\u001b[0m\u001b[0;34m\u001b[0m\u001b[0m\n\u001b[1;32m      3\u001b[0m     \u001b[0;32mfor\u001b[0m \u001b[0muser\u001b[0m \u001b[0;32min\u001b[0m \u001b[0mtqdm\u001b[0m\u001b[0;34m(\u001b[0m\u001b[0musers\u001b[0m\u001b[0;34m)\u001b[0m\u001b[0;34m:\u001b[0m\u001b[0;34m\u001b[0m\u001b[0;34m\u001b[0m\u001b[0m\n\u001b[0;32m----> 4\u001b[0;31m         \u001b[0mfeats\u001b[0m \u001b[0;34m=\u001b[0m \u001b[0mgetUserFeats\u001b[0m\u001b[0;34m(\u001b[0m\u001b[0muser\u001b[0m\u001b[0;34m)\u001b[0m\u001b[0;34m\u001b[0m\u001b[0;34m\u001b[0m\u001b[0m\n\u001b[0m\u001b[1;32m      5\u001b[0m         \u001b[0mprint\u001b[0m\u001b[0;34m(\u001b[0m\u001b[0muser\u001b[0m\u001b[0;34m,\u001b[0m \u001b[0mfeats\u001b[0m\u001b[0;34m)\u001b[0m\u001b[0;34m\u001b[0m\u001b[0;34m\u001b[0m\u001b[0m\n\u001b[1;32m      6\u001b[0m         \u001b[0mallFeats\u001b[0m\u001b[0;34m[\u001b[0m\u001b[0muser\u001b[0m\u001b[0;34m]\u001b[0m \u001b[0;34m=\u001b[0m \u001b[0mfeats\u001b[0m\u001b[0;34m\u001b[0m\u001b[0;34m\u001b[0m\u001b[0m\n",
      "\u001b[0;32m<ipython-input-25-51bf8fe4eeae>\u001b[0m in \u001b[0;36mgetUserFeats\u001b[0;34m(addr)\u001b[0m\n\u001b[1;32m      1\u001b[0m \u001b[0;32mdef\u001b[0m \u001b[0mgetUserFeats\u001b[0m\u001b[0;34m(\u001b[0m\u001b[0maddr\u001b[0m\u001b[0;34m)\u001b[0m\u001b[0;34m:\u001b[0m\u001b[0;34m\u001b[0m\u001b[0;34m\u001b[0m\u001b[0m\n\u001b[1;32m      2\u001b[0m     \u001b[0mbal\u001b[0m \u001b[0;34m=\u001b[0m \u001b[0mgetBal\u001b[0m\u001b[0;34m(\u001b[0m\u001b[0maddr\u001b[0m\u001b[0;34m)\u001b[0m\u001b[0;34m\u001b[0m\u001b[0;34m\u001b[0m\u001b[0m\n\u001b[0;32m----> 3\u001b[0;31m     \u001b[0mtxns\u001b[0m \u001b[0;34m=\u001b[0m \u001b[0mgetTxns\u001b[0m\u001b[0;34m(\u001b[0m\u001b[0maddr\u001b[0m\u001b[0;34m)\u001b[0m\u001b[0;34m\u001b[0m\u001b[0;34m\u001b[0m\u001b[0m\n\u001b[0m\u001b[1;32m      4\u001b[0m     \u001b[0mavgTxnsPerDay\u001b[0m \u001b[0;34m=\u001b[0m \u001b[0mgetAvgTxnsPerDay\u001b[0m\u001b[0;34m(\u001b[0m\u001b[0mtxns\u001b[0m\u001b[0;34m)\u001b[0m\u001b[0;34m\u001b[0m\u001b[0;34m\u001b[0m\u001b[0m\n\u001b[1;32m      5\u001b[0m     \u001b[0mclusters\u001b[0m \u001b[0;34m=\u001b[0m \u001b[0mclusterTxns\u001b[0m\u001b[0;34m(\u001b[0m\u001b[0mtxns\u001b[0m\u001b[0;34m,\u001b[0m \u001b[0maddr\u001b[0m\u001b[0;34m)\u001b[0m\u001b[0;34m\u001b[0m\u001b[0;34m\u001b[0m\u001b[0m\n",
      "\u001b[0;32m<ipython-input-4-e077b04a65b6>\u001b[0m in \u001b[0;36mgetTxns\u001b[0;34m(addr)\u001b[0m\n\u001b[1;32m      2\u001b[0m     \u001b[0murl\u001b[0m \u001b[0;34m=\u001b[0m \u001b[0;34m\"https://api.etherscan.io/api?module=account&action=txlist&address=%s&startblock=0&endblock=99999999&sort=desc&apikey=%s\"\u001b[0m\u001b[0;31m \u001b[0m\u001b[0;31m\\\u001b[0m\u001b[0;34m\u001b[0m\u001b[0;34m\u001b[0m\u001b[0m\n\u001b[1;32m      3\u001b[0m     \u001b[0;34m%\u001b[0m \u001b[0;34m(\u001b[0m\u001b[0maddr\u001b[0m\u001b[0;34m,\u001b[0m \u001b[0mkey\u001b[0m\u001b[0;34m)\u001b[0m\u001b[0;34m\u001b[0m\u001b[0;34m\u001b[0m\u001b[0m\n\u001b[0;32m----> 4\u001b[0;31m     \u001b[0mresult\u001b[0m \u001b[0;34m=\u001b[0m \u001b[0mcallApi\u001b[0m\u001b[0;34m(\u001b[0m\u001b[0murl\u001b[0m\u001b[0;34m)\u001b[0m\u001b[0;34m\u001b[0m\u001b[0;34m\u001b[0m\u001b[0m\n\u001b[0m\u001b[1;32m      5\u001b[0m     \u001b[0;32mreturn\u001b[0m \u001b[0mresult\u001b[0m\u001b[0;34m\u001b[0m\u001b[0;34m\u001b[0m\u001b[0m\n",
      "\u001b[0;32m<ipython-input-3-5f09432d4fe1>\u001b[0m in \u001b[0;36mcallApi\u001b[0;34m(url)\u001b[0m\n\u001b[1;32m      1\u001b[0m \u001b[0;32mdef\u001b[0m \u001b[0mcallApi\u001b[0m\u001b[0;34m(\u001b[0m\u001b[0murl\u001b[0m\u001b[0;34m)\u001b[0m\u001b[0;34m:\u001b[0m\u001b[0;34m\u001b[0m\u001b[0;34m\u001b[0m\u001b[0m\n\u001b[0;32m----> 2\u001b[0;31m     \u001b[0mresponse\u001b[0m \u001b[0;34m=\u001b[0m \u001b[0mrequests\u001b[0m\u001b[0;34m.\u001b[0m\u001b[0mget\u001b[0m\u001b[0;34m(\u001b[0m\u001b[0murl\u001b[0m \u001b[0;34m=\u001b[0m \u001b[0murl\u001b[0m\u001b[0;34m)\u001b[0m\u001b[0;34m\u001b[0m\u001b[0;34m\u001b[0m\u001b[0m\n\u001b[0m\u001b[1;32m      3\u001b[0m     \u001b[0mdata\u001b[0m \u001b[0;34m=\u001b[0m \u001b[0mresponse\u001b[0m\u001b[0;34m.\u001b[0m\u001b[0mjson\u001b[0m\u001b[0;34m(\u001b[0m\u001b[0;34m)\u001b[0m\u001b[0;34m\u001b[0m\u001b[0;34m\u001b[0m\u001b[0m\n\u001b[1;32m      4\u001b[0m \u001b[0;34m\u001b[0m\u001b[0m\n\u001b[1;32m      5\u001b[0m     \u001b[0;32mif\u001b[0m \u001b[0mdata\u001b[0m\u001b[0;34m[\u001b[0m\u001b[0;34m\"message\"\u001b[0m\u001b[0;34m]\u001b[0m \u001b[0;34m==\u001b[0m \u001b[0;34m\"OK\"\u001b[0m\u001b[0;34m:\u001b[0m\u001b[0;34m\u001b[0m\u001b[0;34m\u001b[0m\u001b[0m\n",
      "\u001b[0;32m~/opt/anaconda3/lib/python3.8/site-packages/requests/api.py\u001b[0m in \u001b[0;36mget\u001b[0;34m(url, params, **kwargs)\u001b[0m\n\u001b[1;32m     73\u001b[0m     \"\"\"\n\u001b[1;32m     74\u001b[0m \u001b[0;34m\u001b[0m\u001b[0m\n\u001b[0;32m---> 75\u001b[0;31m     \u001b[0;32mreturn\u001b[0m \u001b[0mrequest\u001b[0m\u001b[0;34m(\u001b[0m\u001b[0;34m'get'\u001b[0m\u001b[0;34m,\u001b[0m \u001b[0murl\u001b[0m\u001b[0;34m,\u001b[0m \u001b[0mparams\u001b[0m\u001b[0;34m=\u001b[0m\u001b[0mparams\u001b[0m\u001b[0;34m,\u001b[0m \u001b[0;34m**\u001b[0m\u001b[0mkwargs\u001b[0m\u001b[0;34m)\u001b[0m\u001b[0;34m\u001b[0m\u001b[0;34m\u001b[0m\u001b[0m\n\u001b[0m\u001b[1;32m     76\u001b[0m \u001b[0;34m\u001b[0m\u001b[0m\n\u001b[1;32m     77\u001b[0m \u001b[0;34m\u001b[0m\u001b[0m\n",
      "\u001b[0;32m~/opt/anaconda3/lib/python3.8/site-packages/requests/api.py\u001b[0m in \u001b[0;36mrequest\u001b[0;34m(method, url, **kwargs)\u001b[0m\n\u001b[1;32m     59\u001b[0m     \u001b[0;31m# cases, and look like a memory leak in others.\u001b[0m\u001b[0;34m\u001b[0m\u001b[0;34m\u001b[0m\u001b[0;34m\u001b[0m\u001b[0m\n\u001b[1;32m     60\u001b[0m     \u001b[0;32mwith\u001b[0m \u001b[0msessions\u001b[0m\u001b[0;34m.\u001b[0m\u001b[0mSession\u001b[0m\u001b[0;34m(\u001b[0m\u001b[0;34m)\u001b[0m \u001b[0;32mas\u001b[0m \u001b[0msession\u001b[0m\u001b[0;34m:\u001b[0m\u001b[0;34m\u001b[0m\u001b[0;34m\u001b[0m\u001b[0m\n\u001b[0;32m---> 61\u001b[0;31m         \u001b[0;32mreturn\u001b[0m \u001b[0msession\u001b[0m\u001b[0;34m.\u001b[0m\u001b[0mrequest\u001b[0m\u001b[0;34m(\u001b[0m\u001b[0mmethod\u001b[0m\u001b[0;34m=\u001b[0m\u001b[0mmethod\u001b[0m\u001b[0;34m,\u001b[0m \u001b[0murl\u001b[0m\u001b[0;34m=\u001b[0m\u001b[0murl\u001b[0m\u001b[0;34m,\u001b[0m \u001b[0;34m**\u001b[0m\u001b[0mkwargs\u001b[0m\u001b[0;34m)\u001b[0m\u001b[0;34m\u001b[0m\u001b[0;34m\u001b[0m\u001b[0m\n\u001b[0m\u001b[1;32m     62\u001b[0m \u001b[0;34m\u001b[0m\u001b[0m\n\u001b[1;32m     63\u001b[0m \u001b[0;34m\u001b[0m\u001b[0m\n",
      "\u001b[0;32m~/opt/anaconda3/lib/python3.8/site-packages/requests/sessions.py\u001b[0m in \u001b[0;36mrequest\u001b[0;34m(self, method, url, params, data, headers, cookies, files, auth, timeout, allow_redirects, proxies, hooks, stream, verify, cert, json)\u001b[0m\n\u001b[1;32m    540\u001b[0m         }\n\u001b[1;32m    541\u001b[0m         \u001b[0msend_kwargs\u001b[0m\u001b[0;34m.\u001b[0m\u001b[0mupdate\u001b[0m\u001b[0;34m(\u001b[0m\u001b[0msettings\u001b[0m\u001b[0;34m)\u001b[0m\u001b[0;34m\u001b[0m\u001b[0;34m\u001b[0m\u001b[0m\n\u001b[0;32m--> 542\u001b[0;31m         \u001b[0mresp\u001b[0m \u001b[0;34m=\u001b[0m \u001b[0mself\u001b[0m\u001b[0;34m.\u001b[0m\u001b[0msend\u001b[0m\u001b[0;34m(\u001b[0m\u001b[0mprep\u001b[0m\u001b[0;34m,\u001b[0m \u001b[0;34m**\u001b[0m\u001b[0msend_kwargs\u001b[0m\u001b[0;34m)\u001b[0m\u001b[0;34m\u001b[0m\u001b[0;34m\u001b[0m\u001b[0m\n\u001b[0m\u001b[1;32m    543\u001b[0m \u001b[0;34m\u001b[0m\u001b[0m\n\u001b[1;32m    544\u001b[0m         \u001b[0;32mreturn\u001b[0m \u001b[0mresp\u001b[0m\u001b[0;34m\u001b[0m\u001b[0;34m\u001b[0m\u001b[0m\n",
      "\u001b[0;32m~/opt/anaconda3/lib/python3.8/site-packages/requests/sessions.py\u001b[0m in \u001b[0;36msend\u001b[0;34m(self, request, **kwargs)\u001b[0m\n\u001b[1;32m    653\u001b[0m \u001b[0;34m\u001b[0m\u001b[0m\n\u001b[1;32m    654\u001b[0m         \u001b[0;31m# Send the request\u001b[0m\u001b[0;34m\u001b[0m\u001b[0;34m\u001b[0m\u001b[0;34m\u001b[0m\u001b[0m\n\u001b[0;32m--> 655\u001b[0;31m         \u001b[0mr\u001b[0m \u001b[0;34m=\u001b[0m \u001b[0madapter\u001b[0m\u001b[0;34m.\u001b[0m\u001b[0msend\u001b[0m\u001b[0;34m(\u001b[0m\u001b[0mrequest\u001b[0m\u001b[0;34m,\u001b[0m \u001b[0;34m**\u001b[0m\u001b[0mkwargs\u001b[0m\u001b[0;34m)\u001b[0m\u001b[0;34m\u001b[0m\u001b[0;34m\u001b[0m\u001b[0m\n\u001b[0m\u001b[1;32m    656\u001b[0m \u001b[0;34m\u001b[0m\u001b[0m\n\u001b[1;32m    657\u001b[0m         \u001b[0;31m# Total elapsed time of the request (approximately)\u001b[0m\u001b[0;34m\u001b[0m\u001b[0;34m\u001b[0m\u001b[0;34m\u001b[0m\u001b[0m\n",
      "\u001b[0;32m~/opt/anaconda3/lib/python3.8/site-packages/requests/adapters.py\u001b[0m in \u001b[0;36msend\u001b[0;34m(self, request, stream, timeout, verify, cert, proxies)\u001b[0m\n\u001b[1;32m    437\u001b[0m         \u001b[0;32mtry\u001b[0m\u001b[0;34m:\u001b[0m\u001b[0;34m\u001b[0m\u001b[0;34m\u001b[0m\u001b[0m\n\u001b[1;32m    438\u001b[0m             \u001b[0;32mif\u001b[0m \u001b[0;32mnot\u001b[0m \u001b[0mchunked\u001b[0m\u001b[0;34m:\u001b[0m\u001b[0;34m\u001b[0m\u001b[0;34m\u001b[0m\u001b[0m\n\u001b[0;32m--> 439\u001b[0;31m                 resp = conn.urlopen(\n\u001b[0m\u001b[1;32m    440\u001b[0m                     \u001b[0mmethod\u001b[0m\u001b[0;34m=\u001b[0m\u001b[0mrequest\u001b[0m\u001b[0;34m.\u001b[0m\u001b[0mmethod\u001b[0m\u001b[0;34m,\u001b[0m\u001b[0;34m\u001b[0m\u001b[0;34m\u001b[0m\u001b[0m\n\u001b[1;32m    441\u001b[0m                     \u001b[0murl\u001b[0m\u001b[0;34m=\u001b[0m\u001b[0murl\u001b[0m\u001b[0;34m,\u001b[0m\u001b[0;34m\u001b[0m\u001b[0;34m\u001b[0m\u001b[0m\n",
      "\u001b[0;32m~/opt/anaconda3/lib/python3.8/site-packages/urllib3/connectionpool.py\u001b[0m in \u001b[0;36murlopen\u001b[0;34m(self, method, url, body, headers, retries, redirect, assert_same_host, timeout, pool_timeout, release_conn, chunked, body_pos, **response_kw)\u001b[0m\n\u001b[1;32m    701\u001b[0m \u001b[0;34m\u001b[0m\u001b[0m\n\u001b[1;32m    702\u001b[0m             \u001b[0;31m# Make the request on the httplib connection object.\u001b[0m\u001b[0;34m\u001b[0m\u001b[0;34m\u001b[0m\u001b[0;34m\u001b[0m\u001b[0m\n\u001b[0;32m--> 703\u001b[0;31m             httplib_response = self._make_request(\n\u001b[0m\u001b[1;32m    704\u001b[0m                 \u001b[0mconn\u001b[0m\u001b[0;34m,\u001b[0m\u001b[0;34m\u001b[0m\u001b[0;34m\u001b[0m\u001b[0m\n\u001b[1;32m    705\u001b[0m                 \u001b[0mmethod\u001b[0m\u001b[0;34m,\u001b[0m\u001b[0;34m\u001b[0m\u001b[0;34m\u001b[0m\u001b[0m\n",
      "\u001b[0;32m~/opt/anaconda3/lib/python3.8/site-packages/urllib3/connectionpool.py\u001b[0m in \u001b[0;36m_make_request\u001b[0;34m(self, conn, method, url, timeout, chunked, **httplib_request_kw)\u001b[0m\n\u001b[1;32m    384\u001b[0m         \u001b[0;31m# Trigger any extra validation we need to do.\u001b[0m\u001b[0;34m\u001b[0m\u001b[0;34m\u001b[0m\u001b[0;34m\u001b[0m\u001b[0m\n\u001b[1;32m    385\u001b[0m         \u001b[0;32mtry\u001b[0m\u001b[0;34m:\u001b[0m\u001b[0;34m\u001b[0m\u001b[0;34m\u001b[0m\u001b[0m\n\u001b[0;32m--> 386\u001b[0;31m             \u001b[0mself\u001b[0m\u001b[0;34m.\u001b[0m\u001b[0m_validate_conn\u001b[0m\u001b[0;34m(\u001b[0m\u001b[0mconn\u001b[0m\u001b[0;34m)\u001b[0m\u001b[0;34m\u001b[0m\u001b[0;34m\u001b[0m\u001b[0m\n\u001b[0m\u001b[1;32m    387\u001b[0m         \u001b[0;32mexcept\u001b[0m \u001b[0;34m(\u001b[0m\u001b[0mSocketTimeout\u001b[0m\u001b[0;34m,\u001b[0m \u001b[0mBaseSSLError\u001b[0m\u001b[0;34m)\u001b[0m \u001b[0;32mas\u001b[0m \u001b[0me\u001b[0m\u001b[0;34m:\u001b[0m\u001b[0;34m\u001b[0m\u001b[0;34m\u001b[0m\u001b[0m\n\u001b[1;32m    388\u001b[0m             \u001b[0;31m# Py2 raises this as a BaseSSLError, Py3 raises it as socket timeout.\u001b[0m\u001b[0;34m\u001b[0m\u001b[0;34m\u001b[0m\u001b[0;34m\u001b[0m\u001b[0m\n",
      "\u001b[0;32m~/opt/anaconda3/lib/python3.8/site-packages/urllib3/connectionpool.py\u001b[0m in \u001b[0;36m_validate_conn\u001b[0;34m(self, conn)\u001b[0m\n\u001b[1;32m   1038\u001b[0m         \u001b[0;31m# Force connect early to allow us to validate the connection.\u001b[0m\u001b[0;34m\u001b[0m\u001b[0;34m\u001b[0m\u001b[0;34m\u001b[0m\u001b[0m\n\u001b[1;32m   1039\u001b[0m         \u001b[0;32mif\u001b[0m \u001b[0;32mnot\u001b[0m \u001b[0mgetattr\u001b[0m\u001b[0;34m(\u001b[0m\u001b[0mconn\u001b[0m\u001b[0;34m,\u001b[0m \u001b[0;34m\"sock\"\u001b[0m\u001b[0;34m,\u001b[0m \u001b[0;32mNone\u001b[0m\u001b[0;34m)\u001b[0m\u001b[0;34m:\u001b[0m  \u001b[0;31m# AppEngine might not have  `.sock`\u001b[0m\u001b[0;34m\u001b[0m\u001b[0;34m\u001b[0m\u001b[0m\n\u001b[0;32m-> 1040\u001b[0;31m             \u001b[0mconn\u001b[0m\u001b[0;34m.\u001b[0m\u001b[0mconnect\u001b[0m\u001b[0;34m(\u001b[0m\u001b[0;34m)\u001b[0m\u001b[0;34m\u001b[0m\u001b[0;34m\u001b[0m\u001b[0m\n\u001b[0m\u001b[1;32m   1041\u001b[0m \u001b[0;34m\u001b[0m\u001b[0m\n\u001b[1;32m   1042\u001b[0m         \u001b[0;32mif\u001b[0m \u001b[0;32mnot\u001b[0m \u001b[0mconn\u001b[0m\u001b[0;34m.\u001b[0m\u001b[0mis_verified\u001b[0m\u001b[0;34m:\u001b[0m\u001b[0;34m\u001b[0m\u001b[0;34m\u001b[0m\u001b[0m\n",
      "\u001b[0;32m~/opt/anaconda3/lib/python3.8/site-packages/urllib3/connection.py\u001b[0m in \u001b[0;36mconnect\u001b[0;34m(self)\u001b[0m\n\u001b[1;32m    414\u001b[0m             \u001b[0mcontext\u001b[0m\u001b[0;34m.\u001b[0m\u001b[0mload_default_certs\u001b[0m\u001b[0;34m(\u001b[0m\u001b[0;34m)\u001b[0m\u001b[0;34m\u001b[0m\u001b[0;34m\u001b[0m\u001b[0m\n\u001b[1;32m    415\u001b[0m \u001b[0;34m\u001b[0m\u001b[0m\n\u001b[0;32m--> 416\u001b[0;31m         self.sock = ssl_wrap_socket(\n\u001b[0m\u001b[1;32m    417\u001b[0m             \u001b[0msock\u001b[0m\u001b[0;34m=\u001b[0m\u001b[0mconn\u001b[0m\u001b[0;34m,\u001b[0m\u001b[0;34m\u001b[0m\u001b[0;34m\u001b[0m\u001b[0m\n\u001b[1;32m    418\u001b[0m             \u001b[0mkeyfile\u001b[0m\u001b[0;34m=\u001b[0m\u001b[0mself\u001b[0m\u001b[0;34m.\u001b[0m\u001b[0mkey_file\u001b[0m\u001b[0;34m,\u001b[0m\u001b[0;34m\u001b[0m\u001b[0;34m\u001b[0m\u001b[0m\n",
      "\u001b[0;32m~/opt/anaconda3/lib/python3.8/site-packages/urllib3/util/ssl_.py\u001b[0m in \u001b[0;36mssl_wrap_socket\u001b[0;34m(sock, keyfile, certfile, cert_reqs, ca_certs, server_hostname, ssl_version, ciphers, ssl_context, ca_cert_dir, key_password, ca_cert_data, tls_in_tls)\u001b[0m\n\u001b[1;32m    447\u001b[0m \u001b[0;34m\u001b[0m\u001b[0m\n\u001b[1;32m    448\u001b[0m     \u001b[0;32mif\u001b[0m \u001b[0msend_sni\u001b[0m\u001b[0;34m:\u001b[0m\u001b[0;34m\u001b[0m\u001b[0;34m\u001b[0m\u001b[0m\n\u001b[0;32m--> 449\u001b[0;31m         ssl_sock = _ssl_wrap_socket_impl(\n\u001b[0m\u001b[1;32m    450\u001b[0m             \u001b[0msock\u001b[0m\u001b[0;34m,\u001b[0m \u001b[0mcontext\u001b[0m\u001b[0;34m,\u001b[0m \u001b[0mtls_in_tls\u001b[0m\u001b[0;34m,\u001b[0m \u001b[0mserver_hostname\u001b[0m\u001b[0;34m=\u001b[0m\u001b[0mserver_hostname\u001b[0m\u001b[0;34m\u001b[0m\u001b[0;34m\u001b[0m\u001b[0m\n\u001b[1;32m    451\u001b[0m         )\n",
      "\u001b[0;32m~/opt/anaconda3/lib/python3.8/site-packages/urllib3/util/ssl_.py\u001b[0m in \u001b[0;36m_ssl_wrap_socket_impl\u001b[0;34m(sock, ssl_context, tls_in_tls, server_hostname)\u001b[0m\n\u001b[1;32m    491\u001b[0m \u001b[0;34m\u001b[0m\u001b[0m\n\u001b[1;32m    492\u001b[0m     \u001b[0;32mif\u001b[0m \u001b[0mserver_hostname\u001b[0m\u001b[0;34m:\u001b[0m\u001b[0;34m\u001b[0m\u001b[0;34m\u001b[0m\u001b[0m\n\u001b[0;32m--> 493\u001b[0;31m         \u001b[0;32mreturn\u001b[0m \u001b[0mssl_context\u001b[0m\u001b[0;34m.\u001b[0m\u001b[0mwrap_socket\u001b[0m\u001b[0;34m(\u001b[0m\u001b[0msock\u001b[0m\u001b[0;34m,\u001b[0m \u001b[0mserver_hostname\u001b[0m\u001b[0;34m=\u001b[0m\u001b[0mserver_hostname\u001b[0m\u001b[0;34m)\u001b[0m\u001b[0;34m\u001b[0m\u001b[0;34m\u001b[0m\u001b[0m\n\u001b[0m\u001b[1;32m    494\u001b[0m     \u001b[0;32melse\u001b[0m\u001b[0;34m:\u001b[0m\u001b[0;34m\u001b[0m\u001b[0;34m\u001b[0m\u001b[0m\n\u001b[1;32m    495\u001b[0m         \u001b[0;32mreturn\u001b[0m \u001b[0mssl_context\u001b[0m\u001b[0;34m.\u001b[0m\u001b[0mwrap_socket\u001b[0m\u001b[0;34m(\u001b[0m\u001b[0msock\u001b[0m\u001b[0;34m)\u001b[0m\u001b[0;34m\u001b[0m\u001b[0;34m\u001b[0m\u001b[0m\n",
      "\u001b[0;32m~/opt/anaconda3/lib/python3.8/ssl.py\u001b[0m in \u001b[0;36mwrap_socket\u001b[0;34m(self, sock, server_side, do_handshake_on_connect, suppress_ragged_eofs, server_hostname, session)\u001b[0m\n\u001b[1;32m    498\u001b[0m         \u001b[0;31m# SSLSocket class handles server_hostname encoding before it calls\u001b[0m\u001b[0;34m\u001b[0m\u001b[0;34m\u001b[0m\u001b[0;34m\u001b[0m\u001b[0m\n\u001b[1;32m    499\u001b[0m         \u001b[0;31m# ctx._wrap_socket()\u001b[0m\u001b[0;34m\u001b[0m\u001b[0;34m\u001b[0m\u001b[0;34m\u001b[0m\u001b[0m\n\u001b[0;32m--> 500\u001b[0;31m         return self.sslsocket_class._create(\n\u001b[0m\u001b[1;32m    501\u001b[0m             \u001b[0msock\u001b[0m\u001b[0;34m=\u001b[0m\u001b[0msock\u001b[0m\u001b[0;34m,\u001b[0m\u001b[0;34m\u001b[0m\u001b[0;34m\u001b[0m\u001b[0m\n\u001b[1;32m    502\u001b[0m             \u001b[0mserver_side\u001b[0m\u001b[0;34m=\u001b[0m\u001b[0mserver_side\u001b[0m\u001b[0;34m,\u001b[0m\u001b[0;34m\u001b[0m\u001b[0;34m\u001b[0m\u001b[0m\n",
      "\u001b[0;32m~/opt/anaconda3/lib/python3.8/ssl.py\u001b[0m in \u001b[0;36m_create\u001b[0;34m(cls, sock, server_side, do_handshake_on_connect, suppress_ragged_eofs, server_hostname, context, session)\u001b[0m\n\u001b[1;32m   1038\u001b[0m                         \u001b[0;31m# non-blocking\u001b[0m\u001b[0;34m\u001b[0m\u001b[0;34m\u001b[0m\u001b[0;34m\u001b[0m\u001b[0m\n\u001b[1;32m   1039\u001b[0m                         \u001b[0;32mraise\u001b[0m \u001b[0mValueError\u001b[0m\u001b[0;34m(\u001b[0m\u001b[0;34m\"do_handshake_on_connect should not be specified for non-blocking sockets\"\u001b[0m\u001b[0;34m)\u001b[0m\u001b[0;34m\u001b[0m\u001b[0;34m\u001b[0m\u001b[0m\n\u001b[0;32m-> 1040\u001b[0;31m                     \u001b[0mself\u001b[0m\u001b[0;34m.\u001b[0m\u001b[0mdo_handshake\u001b[0m\u001b[0;34m(\u001b[0m\u001b[0;34m)\u001b[0m\u001b[0;34m\u001b[0m\u001b[0;34m\u001b[0m\u001b[0m\n\u001b[0m\u001b[1;32m   1041\u001b[0m             \u001b[0;32mexcept\u001b[0m \u001b[0;34m(\u001b[0m\u001b[0mOSError\u001b[0m\u001b[0;34m,\u001b[0m \u001b[0mValueError\u001b[0m\u001b[0;34m)\u001b[0m\u001b[0;34m:\u001b[0m\u001b[0;34m\u001b[0m\u001b[0;34m\u001b[0m\u001b[0m\n\u001b[1;32m   1042\u001b[0m                 \u001b[0mself\u001b[0m\u001b[0;34m.\u001b[0m\u001b[0mclose\u001b[0m\u001b[0;34m(\u001b[0m\u001b[0;34m)\u001b[0m\u001b[0;34m\u001b[0m\u001b[0;34m\u001b[0m\u001b[0m\n",
      "\u001b[0;32m~/opt/anaconda3/lib/python3.8/ssl.py\u001b[0m in \u001b[0;36mdo_handshake\u001b[0;34m(self, block)\u001b[0m\n\u001b[1;32m   1307\u001b[0m             \u001b[0;32mif\u001b[0m \u001b[0mtimeout\u001b[0m \u001b[0;34m==\u001b[0m \u001b[0;36m0.0\u001b[0m \u001b[0;32mand\u001b[0m \u001b[0mblock\u001b[0m\u001b[0;34m:\u001b[0m\u001b[0;34m\u001b[0m\u001b[0;34m\u001b[0m\u001b[0m\n\u001b[1;32m   1308\u001b[0m                 \u001b[0mself\u001b[0m\u001b[0;34m.\u001b[0m\u001b[0msettimeout\u001b[0m\u001b[0;34m(\u001b[0m\u001b[0;32mNone\u001b[0m\u001b[0;34m)\u001b[0m\u001b[0;34m\u001b[0m\u001b[0;34m\u001b[0m\u001b[0m\n\u001b[0;32m-> 1309\u001b[0;31m             \u001b[0mself\u001b[0m\u001b[0;34m.\u001b[0m\u001b[0m_sslobj\u001b[0m\u001b[0;34m.\u001b[0m\u001b[0mdo_handshake\u001b[0m\u001b[0;34m(\u001b[0m\u001b[0;34m)\u001b[0m\u001b[0;34m\u001b[0m\u001b[0;34m\u001b[0m\u001b[0m\n\u001b[0m\u001b[1;32m   1310\u001b[0m         \u001b[0;32mfinally\u001b[0m\u001b[0;34m:\u001b[0m\u001b[0;34m\u001b[0m\u001b[0;34m\u001b[0m\u001b[0m\n\u001b[1;32m   1311\u001b[0m             \u001b[0mself\u001b[0m\u001b[0;34m.\u001b[0m\u001b[0msettimeout\u001b[0m\u001b[0;34m(\u001b[0m\u001b[0mtimeout\u001b[0m\u001b[0;34m)\u001b[0m\u001b[0;34m\u001b[0m\u001b[0;34m\u001b[0m\u001b[0m\n",
      "\u001b[0;31mKeyboardInterrupt\u001b[0m: "
     ]
    }
   ],
   "source": [
    "def getAllUsersFeats(users, filePath):\n",
    "    allFeats = {}\n",
    "    for user in tqdm(users):\n",
    "        feats = getUserFeats(user)\n",
    "#         print(user, feats)\n",
    "        allFeats[user] = feats\n",
    "\n",
    "    with open(filePath, \"w\") as f:\n",
    "        f.write(json.dumps(allFeats))\n",
    "        \n",
    "    return allFeats\n",
    "\n",
    "getAllUsersFeats(allDefiUsers, \"data/defi/userFeats.json\")"
   ]
  },
  {
   "cell_type": "code",
   "execution_count": 22,
   "id": "e46bab1e",
   "metadata": {},
   "outputs": [
    {
     "name": "stdout",
     "output_type": "stream",
     "text": [
      "Label                 Count\n",
      "------------------  -------\n",
      "DEFI Unique Users     50124\n",
      "NFT Unique Users      28087\n",
      "Common Users            762\n",
      "Total Unique Users    77449\n"
     ]
    }
   ],
   "source": [
    "print(tabulate([\n",
    "    [\"DEFI Unique Users\", len(allUsers)],\n",
    "    [\"NFT Unique Users\", len(nftUsers)],\n",
    "    [\"Common Users\", len(commonUsers)],\n",
    "    [\"Total Unique Users\", len(combinedUsers)]],\n",
    "    headers=[\"Label\", \"Count\"]))"
   ]
  },
  {
   "cell_type": "code",
   "execution_count": 24,
   "id": "9ab51a14",
   "metadata": {},
   "outputs": [
    {
     "data": {
      "text/plain": [
       "<matplotlib_venn._common.VennDiagram at 0x7fa0b424f400>"
      ]
     },
     "execution_count": 24,
     "metadata": {},
     "output_type": "execute_result"
    },
    {
     "data": {
      "image/png": "[encoded data removed]",
      "text/plain": [
       "<Figure size 432x288 with 1 Axes>"
      ]
     },
     "metadata": {},
     "output_type": "display_data"
    }
   ],
   "source": [
    "venn2(subsets = (len(allUsers), len(nftUsers), len(commonUsers)), set_labels = ('DEFI Users', 'NFT Users'))"
   ]
  }
 ],
 "metadata": {
  "kernelspec": {
   "display_name": "Python 3",
   "language": "python",
   "name": "python3"
  },
  "language_info": {
   "codemirror_mode": {
    "name": "ipython",
    "version": 3
   },
   "file_extension": ".py",
   "mimetype": "text/x-python",
   "name": "python",
   "nbconvert_exporter": "python",
   "pygments_lexer": "ipython3",
   "version": "3.8.5"
  }
 },
 "nbformat": 4,
 "nbformat_minor": 5
}
